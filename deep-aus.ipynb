{
 "cells": [
  {
   "cell_type": "code",
   "execution_count": 1,
   "id": "4df241a0",
   "metadata": {},
   "outputs": [
    {
     "name": "stdout",
     "output_type": "stream",
     "text": [
      "Init Plugin\n",
      "Init Graph Optimizer\n",
      "Init Kernel\n"
     ]
    }
   ],
   "source": [
    "import tensorflow as tf\n",
    "from tensorflow import keras\n",
    "from tensorflow.keras import Sequential\n",
    "from tensorflow.keras.layers import Flatten, Dense, Dropout, BatchNormalization\n",
    "from tensorflow.keras.layers import Conv1D, MaxPool1D\n",
    "from keras.layers import Embedding, Dense, LSTM, Activation, Dropout, Flatten\n",
    "from tensorflow.keras.optimizers import Adam"
   ]
  },
  {
   "cell_type": "code",
   "execution_count": 2,
   "id": "9607df99",
   "metadata": {},
   "outputs": [],
   "source": [
    "import pandas as pd\n",
    "import numpy as np\n",
    "import  seaborn as sns\n",
    "import matplotlib.pyplot as plt\n",
    "from sklearn.model_selection import train_test_split\n",
    "from sklearn.preprocessing import StandardScaler"
   ]
  },
  {
   "cell_type": "code",
   "execution_count": 31,
   "id": "c7488afd",
   "metadata": {},
   "outputs": [],
   "source": [
    "aus=pd.read_table('./Australian/australian.dat', header=None,sep=' ')\n",
    "colnames=['A1','A2','A3','A4','A5','A6','A7','A8','A9','A10','A11','A12','A13','A14','Label']\n",
    "aus.columns=colnames"
   ]
  },
  {
   "cell_type": "code",
   "execution_count": 32,
   "id": "2753899a",
   "metadata": {},
   "outputs": [],
   "source": [
    "aus_pre=aus.copy(deep=True)\n",
    "aus_pre=aus_pre.drop(columns=['Label'])\n",
    "pre_aus=StandardScaler().fit_transform(aus_pre)\n",
    "pre_aus=pd.DataFrame(pre_aus,columns = aus_pre.select_dtypes(include='number').columns)\n",
    "pre_aus=pd.concat([pre_aus, aus[['Label']]], axis=1)"
   ]
  },
  {
   "cell_type": "code",
   "execution_count": 33,
   "id": "dcfe66de",
   "metadata": {},
   "outputs": [],
   "source": [
    "from sklearn.ensemble import RandomForestClassifier\n",
    "X, y = pre_aus.loc[:, np.delete(pre_aus.columns.values, \n",
    "                                        np.where(pre_aus.columns.values == ['Label']))], \\\n",
    "        pre_aus.loc[:, 'Label']\n",
    "\n",
    "# train on randomForest to get important features\n",
    "clf = RandomForestClassifier(n_estimators=100, max_depth=2,\n",
    "                             random_state=0)\n",
    "clf.fit(X, y) \n",
    "\n",
    "feature_importances = pd.DataFrame(sorted(zip(pre_aus.columns, clf.feature_importances_), key=lambda x: x[1] * -1),\n",
    "                                    columns = ['feature','importance'])\n"
   ]
  },
  {
   "cell_type": "code",
   "execution_count": 34,
   "id": "16e5dacc",
   "metadata": {},
   "outputs": [],
   "source": [
    "top_features = feature_importances[feature_importances.importance>0]['feature'].values\n",
    "\n",
    "X, y = pre_aus.loc[:,top_features], pre_aus.loc[:,'Label']"
   ]
  },
  {
   "cell_type": "code",
   "execution_count": 35,
   "id": "4e11e3da",
   "metadata": {},
   "outputs": [],
   "source": [
    "y=y*(-1)+1\n",
    "#0 po 1 ne\n",
    "#0 po -1 ne\n",
    "#+1"
   ]
  },
  {
   "cell_type": "code",
   "execution_count": 36,
   "id": "33235d52",
   "metadata": {},
   "outputs": [],
   "source": [
    "from imblearn.over_sampling import SMOTE"
   ]
  },
  {
   "cell_type": "code",
   "execution_count": 37,
   "id": "aa3c5a10",
   "metadata": {},
   "outputs": [],
   "source": [
    "x_train, x_test, y_train, y_test = train_test_split(X, y, test_size = 0.2, random_state = 0,stratify = y)\n",
    "sm = SMOTE(random_state=0,sampling_strategy=1)\n",
    "x_train_b, y_train_b = sm.fit_resample(x_train, y_train.ravel())"
   ]
  },
  {
   "cell_type": "code",
   "execution_count": 10,
   "id": "6a21c774",
   "metadata": {},
   "outputs": [],
   "source": [
    "from scipy.stats import ks_2samp"
   ]
  },
  {
   "cell_type": "code",
   "execution_count": 11,
   "id": "69087c1f",
   "metadata": {},
   "outputs": [],
   "source": [
    "def ks_stat(y, yhat):\n",
    "    return ks_2samp(yhat[y==1], yhat[y!=1]).statistic"
   ]
  },
  {
   "cell_type": "code",
   "execution_count": 12,
   "id": "b53ca0c1",
   "metadata": {},
   "outputs": [],
   "source": [
    "def type2_calcu(y,yhat):\n",
    "    confusion =confusion_matrix(y,yhat)\n",
    "    #[row, column]\n",
    "    TP = confusion[1, 1]\n",
    "    TN = confusion[0, 0]\n",
    "    FP = confusion[0, 1]\n",
    "    FN = confusion[1, 0]\n",
    "    return FP / float(FP + TN)\n",
    "def type1_calcu(y,yhat):\n",
    "    confusion =confusion_matrix(y,yhat)\n",
    "    #[row, column]\n",
    "    TP = confusion[1, 1]\n",
    "    TN = confusion[0, 0]\n",
    "    FP = confusion[0, 1]\n",
    "    FN = confusion[1, 0]\n",
    "    return FN / float(TP + FN)"
   ]
  },
  {
   "cell_type": "code",
   "execution_count": 13,
   "id": "5fcfc722",
   "metadata": {},
   "outputs": [],
   "source": [
    "def scores(model):\n",
    "    train=[]\n",
    "    test=[]\n",
    "    y_train_c=model.predict(x_train)\n",
    "    y_train_pre=model.predict_proba(x_train)\n",
    "    y_pred_c=model.predict(x_test)\n",
    "    y_pred = model.predict_proba(x_test)\n",
    "    #roc\n",
    "    train.append(roc_auc_score(y_train,y_train_pre))\n",
    "    test.append(roc_auc_score(y_test, y_pred))\n",
    "    #ks\n",
    "    train.append(ks_stat(y_train,np.round(y_train_c[:,0],0)))\n",
    "    test.append(ks_stat(y_test, np.round(y_pred_c[:,0],0)))\n",
    "    #brier\n",
    "    train.append(brier_score_loss(y_train,y_train_pre))\n",
    "    test.append(brier_score_loss(y_test, y_pred))\n",
    "    #acc\n",
    "    train.append(accuracy_score(y_train,np.round(y_train_c,0)))\n",
    "    test.append(accuracy_score(y_test, np.round(y_pred_c,0)))\n",
    "    #t1\n",
    "    train.append(type1_calcu(y_train,np.round(y_train_c,0)))\n",
    "    test.append(type1_calcu(y_test, np.round(y_pred_c,0)))\n",
    "    #t2\n",
    "    train.append(type2_calcu(y_train,np.round(y_train_c,0)))\n",
    "    test.append(type2_calcu(y_test, np.round(y_pred_c,0)))\n",
    "    return train,test"
   ]
  },
  {
   "cell_type": "code",
   "execution_count": 14,
   "id": "187c70fd",
   "metadata": {},
   "outputs": [
    {
     "name": "stdout",
     "output_type": "stream",
     "text": [
      "(552, 13)\n"
     ]
    }
   ],
   "source": [
    "print(x_train.shape)"
   ]
  },
  {
   "cell_type": "code",
   "execution_count": 38,
   "id": "efd2c511",
   "metadata": {},
   "outputs": [],
   "source": [
    "x_train=StandardScaler().fit_transform(x_train)\n",
    "x_test=StandardScaler().fit_transform(x_test)\n",
    "\n",
    "x_train_b=StandardScaler().fit_transform(x_train_b)"
   ]
  },
  {
   "cell_type": "code",
   "execution_count": 39,
   "id": "5e7956b4",
   "metadata": {},
   "outputs": [],
   "source": [
    "x_train = x_train.reshape(x_train.shape[0], x_train.shape[1], 1)\n",
    "x_test = x_test.reshape(x_test.shape[0], x_test.shape[1], 1)\n",
    "\n",
    "x_train_b = x_train_b.reshape(x_train_b.shape[0], x_train_b.shape[1], 1)"
   ]
  },
  {
   "cell_type": "code",
   "execution_count": 17,
   "id": "f423d606",
   "metadata": {},
   "outputs": [
    {
     "name": "stdout",
     "output_type": "stream",
     "text": [
      "Metal device set to: Apple M1 Pro\n"
     ]
    },
    {
     "name": "stderr",
     "output_type": "stream",
     "text": [
      "2022-07-27 20:40:46.654824: I tensorflow/core/common_runtime/pluggable_device/pluggable_device_factory.cc:305] Could not identify NUMA node of platform GPU ID 0, defaulting to 0. Your kernel may not have been built with NUMA support.\n",
      "2022-07-27 20:40:46.655063: I tensorflow/core/common_runtime/pluggable_device/pluggable_device_factory.cc:271] Created TensorFlow device (/job:localhost/replica:0/task:0/device:GPU:0 with 0 MB memory) -> physical PluggableDevice (device: 0, name: METAL, pci bus id: <undefined>)\n"
     ]
    }
   ],
   "source": [
    "epochs = 20\n",
    "model = Sequential()\n",
    "model.add(Conv1D(32, 2, activation='relu',input_shape = x_train[0].shape))\n",
    "model.add(BatchNormalization())\n",
    "model.add(Dropout(0.2))\n",
    "\n",
    "model.add(Conv1D(64, 2, activation='relu'))\n",
    "model.add(BatchNormalization())\n",
    "model.add(Dropout(0.5))\n",
    "\n",
    "model.add(Flatten())\n",
    "model.add(Dense(64, activation='relu'))\n",
    "model.add(Dropout(0.5))\n",
    "\n",
    "model.add(Dense(1, activation='sigmoid'))"
   ]
  },
  {
   "cell_type": "code",
   "execution_count": 18,
   "id": "35814033",
   "metadata": {},
   "outputs": [
    {
     "name": "stdout",
     "output_type": "stream",
     "text": [
      "Model: \"sequential\"\n",
      "_________________________________________________________________\n",
      "Layer (type)                 Output Shape              Param #   \n",
      "=================================================================\n",
      "conv1d (Conv1D)              (None, 12, 32)            96        \n",
      "_________________________________________________________________\n",
      "batch_normalization (BatchNo (None, 12, 32)            128       \n",
      "_________________________________________________________________\n",
      "module_wrapper (ModuleWrappe (None, 12, 32)            0         \n",
      "_________________________________________________________________\n",
      "conv1d_1 (Conv1D)            (None, 11, 64)            4160      \n",
      "_________________________________________________________________\n",
      "batch_normalization_1 (Batch (None, 11, 64)            256       \n",
      "_________________________________________________________________\n",
      "module_wrapper_1 (ModuleWrap (None, 11, 64)            0         \n",
      "_________________________________________________________________\n",
      "module_wrapper_2 (ModuleWrap (None, 704)               0         \n",
      "_________________________________________________________________\n",
      "module_wrapper_3 (ModuleWrap (None, 64)                45120     \n",
      "_________________________________________________________________\n",
      "module_wrapper_4 (ModuleWrap (None, 64)                0         \n",
      "_________________________________________________________________\n",
      "module_wrapper_5 (ModuleWrap (None, 1)                 65        \n",
      "=================================================================\n",
      "Total params: 49,825\n",
      "Trainable params: 49,633\n",
      "Non-trainable params: 192\n",
      "_________________________________________________________________\n"
     ]
    }
   ],
   "source": [
    "model.summary()"
   ]
  },
  {
   "cell_type": "code",
   "execution_count": 19,
   "id": "d5fde345",
   "metadata": {},
   "outputs": [],
   "source": [
    "model.compile(optimizer=Adam(learning_rate=0.0001), loss = 'binary_crossentropy', metrics=['accuracy'])"
   ]
  },
  {
   "cell_type": "code",
   "execution_count": 20,
   "id": "a6a7ab4a",
   "metadata": {},
   "outputs": [
    {
     "name": "stderr",
     "output_type": "stream",
     "text": [
      "2022-07-27 20:40:54.119133: I tensorflow/compiler/mlir/mlir_graph_optimization_pass.cc:176] None of the MLIR Optimization Passes are enabled (registered 2)\n",
      "2022-07-27 20:40:54.119384: W tensorflow/core/platform/profile_utils/cpu_utils.cc:128] Failed to get CPU frequency: 0 Hz\n"
     ]
    },
    {
     "name": "stdout",
     "output_type": "stream",
     "text": [
      "Epoch 1/20\n"
     ]
    },
    {
     "name": "stderr",
     "output_type": "stream",
     "text": [
      "2022-07-27 20:40:54.432052: I tensorflow/core/grappler/optimizers/custom_graph_optimizer_registry.cc:112] Plugin optimizer for device_type GPU is enabled.\n"
     ]
    },
    {
     "name": "stdout",
     "output_type": "stream",
     "text": [
      "18/18 [==============================] - 1s 19ms/step - loss: 0.9583 - accuracy: 0.6069\n",
      "Epoch 2/20\n",
      "18/18 [==============================] - 0s 15ms/step - loss: 0.9252 - accuracy: 0.5851\n",
      "Epoch 3/20\n",
      "18/18 [==============================] - 0s 15ms/step - loss: 0.7865 - accuracy: 0.6504\n",
      "Epoch 4/20\n",
      "18/18 [==============================] - 0s 15ms/step - loss: 0.7020 - accuracy: 0.7029\n",
      "Epoch 5/20\n",
      "18/18 [==============================] - 0s 15ms/step - loss: 0.6754 - accuracy: 0.7319\n",
      "Epoch 6/20\n",
      "18/18 [==============================] - 0s 15ms/step - loss: 0.5574 - accuracy: 0.7554\n",
      "Epoch 7/20\n",
      "18/18 [==============================] - 0s 16ms/step - loss: 0.6118 - accuracy: 0.7337\n",
      "Epoch 8/20\n",
      "18/18 [==============================] - 0s 16ms/step - loss: 0.5936 - accuracy: 0.7464\n",
      "Epoch 9/20\n",
      "18/18 [==============================] - 0s 16ms/step - loss: 0.5945 - accuracy: 0.7554\n",
      "Epoch 10/20\n",
      "18/18 [==============================] - 0s 16ms/step - loss: 0.5283 - accuracy: 0.7717\n",
      "Epoch 11/20\n",
      "18/18 [==============================] - 0s 15ms/step - loss: 0.5556 - accuracy: 0.7736\n",
      "Epoch 12/20\n",
      "18/18 [==============================] - 0s 16ms/step - loss: 0.5246 - accuracy: 0.8007\n",
      "Epoch 13/20\n",
      "18/18 [==============================] - 0s 15ms/step - loss: 0.5404 - accuracy: 0.7862\n",
      "Epoch 14/20\n",
      "18/18 [==============================] - 0s 16ms/step - loss: 0.4818 - accuracy: 0.8025\n",
      "Epoch 15/20\n",
      "18/18 [==============================] - 0s 15ms/step - loss: 0.4557 - accuracy: 0.8007\n",
      "Epoch 16/20\n",
      "18/18 [==============================] - 0s 16ms/step - loss: 0.4908 - accuracy: 0.8007\n",
      "Epoch 17/20\n",
      "18/18 [==============================] - 0s 16ms/step - loss: 0.4700 - accuracy: 0.7953\n",
      "Epoch 18/20\n",
      "18/18 [==============================] - 0s 15ms/step - loss: 0.4878 - accuracy: 0.7953\n",
      "Epoch 19/20\n",
      "18/18 [==============================] - 0s 15ms/step - loss: 0.4564 - accuracy: 0.8098\n",
      "Epoch 20/20\n",
      "18/18 [==============================] - 0s 15ms/step - loss: 0.4397 - accuracy: 0.8225\n"
     ]
    }
   ],
   "source": [
    "history = model.fit(x_train, y_train, epochs=20, verbose=1)"
   ]
  },
  {
   "cell_type": "code",
   "execution_count": 21,
   "id": "74425707",
   "metadata": {},
   "outputs": [],
   "source": [
    "from sklearn.metrics import roc_auc_score, recall_score, precision_score,make_scorer,confusion_matrix,brier_score_loss,accuracy_score"
   ]
  },
  {
   "cell_type": "code",
   "execution_count": 22,
   "id": "d99bbfd5",
   "metadata": {},
   "outputs": [
    {
     "name": "stdout",
     "output_type": "stream",
     "text": [
      "([0.9341224294595888, 0.6889845369041926, 0.11099421065014452, 0.8514492753623188, 0.0915032679738562, 0.21951219512195122], [0.89589099425165, 0.6700021290185224, 0.12560885983570785, 0.8405797101449275, 0.11688311688311688, 0.21311475409836064])\n"
     ]
    },
    {
     "name": "stderr",
     "output_type": "stream",
     "text": [
      "2022-07-27 20:41:06.280780: I tensorflow/core/grappler/optimizers/custom_graph_optimizer_registry.cc:112] Plugin optimizer for device_type GPU is enabled.\n",
      "/Users/weixiao/miniforge3/envs/tensorflow/lib/python3.9/site-packages/tensorflow/python/keras/engine/sequential.py:430: UserWarning: `model.predict_proba()` is deprecated and will be removed after 2021-01-01. Please use `model.predict()` instead.\n",
      "  warnings.warn('`model.predict_proba()` is deprecated and '\n"
     ]
    }
   ],
   "source": [
    "print(scores(model))"
   ]
  },
  {
   "cell_type": "code",
   "execution_count": 40,
   "id": "e313f57d",
   "metadata": {},
   "outputs": [
    {
     "name": "stdout",
     "output_type": "stream",
     "text": [
      "WARNING:tensorflow:Layer lstm will not use cuDNN kernels since it doesn't meet the criteria. It will use a generic GPU kernel as fallback when running on GPU.\n",
      "WARNING:tensorflow:Layer lstm_1 will not use cuDNN kernels since it doesn't meet the criteria. It will use a generic GPU kernel as fallback when running on GPU.\n"
     ]
    }
   ],
   "source": [
    "model2 = Sequential()\n",
    "model2.add(LSTM(32, input_shape=(1,13), activation='relu', return_sequences=True))\n",
    "model2.add(Dropout(0.2))\n",
    "\n",
    "model2.add(LSTM(64, activation='relu'))\n",
    "model2.add(Dropout(0.5))\n",
    "\n",
    "model2.add(Dense(64, activation='relu'))\n",
    "model2.add(Dropout(0.5))\n",
    "\n",
    "model2.add(Flatten())\n",
    "model2.add(Dense(1, activation='sigmoid'))"
   ]
  },
  {
   "cell_type": "code",
   "execution_count": 41,
   "id": "e109290e",
   "metadata": {},
   "outputs": [],
   "source": [
    "x_train = x_train.reshape(x_train.shape[0], 1,x_train.shape[1])\n",
    "x_test = x_test.reshape(x_test.shape[0], 1,x_test.shape[1])"
   ]
  },
  {
   "cell_type": "code",
   "execution_count": 42,
   "id": "e58e0bb3",
   "metadata": {},
   "outputs": [
    {
     "data": {
      "text/plain": [
       "(552, 1, 13)"
      ]
     },
     "execution_count": 42,
     "metadata": {},
     "output_type": "execute_result"
    }
   ],
   "source": [
    "x_train.shape"
   ]
  },
  {
   "cell_type": "code",
   "execution_count": 43,
   "id": "b3c59476",
   "metadata": {},
   "outputs": [],
   "source": [
    "model2.compile(optimizer=Adam(learning_rate=0.001), loss = 'binary_crossentropy', metrics=['accuracy'])"
   ]
  },
  {
   "cell_type": "code",
   "execution_count": 44,
   "id": "3829cdec",
   "metadata": {},
   "outputs": [
    {
     "name": "stdout",
     "output_type": "stream",
     "text": [
      "Epoch 1/20\n"
     ]
    },
    {
     "name": "stderr",
     "output_type": "stream",
     "text": [
      "2022-07-27 20:50:36.235064: I tensorflow/core/grappler/optimizers/custom_graph_optimizer_registry.cc:112] Plugin optimizer for device_type GPU is enabled.\n"
     ]
    },
    {
     "name": "stdout",
     "output_type": "stream",
     "text": [
      "18/18 [==============================] - 2s 25ms/step - loss: 0.6915 - accuracy: 0.5272\n",
      "Epoch 2/20\n",
      "18/18 [==============================] - 0s 20ms/step - loss: 0.6820 - accuracy: 0.5833\n",
      "Epoch 3/20\n",
      "18/18 [==============================] - 0s 20ms/step - loss: 0.6628 - accuracy: 0.6522\n",
      "Epoch 4/20\n",
      "18/18 [==============================] - 0s 20ms/step - loss: 0.6113 - accuracy: 0.7736\n",
      "Epoch 5/20\n",
      "18/18 [==============================] - 0s 21ms/step - loss: 0.5127 - accuracy: 0.8315\n",
      "Epoch 6/20\n",
      "18/18 [==============================] - 0s 20ms/step - loss: 0.4026 - accuracy: 0.8533\n",
      "Epoch 7/20\n",
      "18/18 [==============================] - 0s 22ms/step - loss: 0.3562 - accuracy: 0.8696\n",
      "Epoch 8/20\n",
      "18/18 [==============================] - 0s 22ms/step - loss: 0.3549 - accuracy: 0.8786\n",
      "Epoch 9/20\n",
      "18/18 [==============================] - 0s 22ms/step - loss: 0.3288 - accuracy: 0.8696\n",
      "Epoch 10/20\n",
      "18/18 [==============================] - 0s 20ms/step - loss: 0.2964 - accuracy: 0.8913\n",
      "Epoch 11/20\n",
      "18/18 [==============================] - 0s 22ms/step - loss: 0.3097 - accuracy: 0.8822\n",
      "Epoch 12/20\n",
      "18/18 [==============================] - 0s 20ms/step - loss: 0.3008 - accuracy: 0.8877\n",
      "Epoch 13/20\n",
      "18/18 [==============================] - 0s 22ms/step - loss: 0.2920 - accuracy: 0.8641\n",
      "Epoch 14/20\n",
      "18/18 [==============================] - 0s 20ms/step - loss: 0.2961 - accuracy: 0.8786\n",
      "Epoch 15/20\n",
      "18/18 [==============================] - 0s 20ms/step - loss: 0.2869 - accuracy: 0.8750\n",
      "Epoch 16/20\n",
      "18/18 [==============================] - 0s 20ms/step - loss: 0.2805 - accuracy: 0.8822\n",
      "Epoch 17/20\n",
      "18/18 [==============================] - 0s 20ms/step - loss: 0.2766 - accuracy: 0.8859\n",
      "Epoch 18/20\n",
      "18/18 [==============================] - 0s 20ms/step - loss: 0.2723 - accuracy: 0.8804\n",
      "Epoch 19/20\n",
      "18/18 [==============================] - 0s 20ms/step - loss: 0.2676 - accuracy: 0.8895\n",
      "Epoch 20/20\n",
      "18/18 [==============================] - 0s 22ms/step - loss: 0.2576 - accuracy: 0.8822\n"
     ]
    }
   ],
   "source": [
    "history=model2.fit(x_train, y_train, epochs=20)"
   ]
  },
  {
   "cell_type": "code",
   "execution_count": 45,
   "id": "dfe18ad2",
   "metadata": {},
   "outputs": [
    {
     "name": "stderr",
     "output_type": "stream",
     "text": [
      "2022-07-27 20:50:47.711961: I tensorflow/core/grappler/optimizers/custom_graph_optimizer_registry.cc:112] Plugin optimizer for device_type GPU is enabled.\n",
      "/Users/weixiao/miniforge3/envs/tensorflow/lib/python3.9/site-packages/tensorflow/python/keras/engine/sequential.py:430: UserWarning: `model.predict_proba()` is deprecated and will be removed after 2021-01-01. Please use `model.predict()` instead.\n",
      "  warnings.warn('`model.predict_proba()` is deprecated and '\n"
     ]
    },
    {
     "name": "stdout",
     "output_type": "stream",
     "text": [
      "([0.9607843137254902, 0.787342579308146, 0.07557684769537518, 0.894927536231884, 0.09477124183006536, 0.11788617886178862], [0.9222908239301683, 0.7355758995103258, 0.10252699131296286, 0.8695652173913043, 0.11688311688311688, 0.14754098360655737])\n"
     ]
    }
   ],
   "source": [
    "print(scores(model2))"
   ]
  },
  {
   "cell_type": "code",
   "execution_count": 26,
   "id": "a55766e0",
   "metadata": {},
   "outputs": [],
   "source": [
    "epochs = 20\n",
    "model3 = Sequential()\n",
    "model3.add(Conv1D(32, 2, activation='relu',input_shape = x_train_b[0].shape))\n",
    "model3.add(BatchNormalization())\n",
    "model3.add(Dropout(0.2))\n",
    "\n",
    "model3.add(Conv1D(64, 2, activation='relu'))\n",
    "model3.add(BatchNormalization())\n",
    "model3.add(Dropout(0.5))\n",
    "\n",
    "model3.add(Flatten())\n",
    "model3.add(Dense(64, activation='relu'))\n",
    "model3.add(Dropout(0.5))\n",
    "\n",
    "model3.add(Dense(1, activation='sigmoid'))"
   ]
  },
  {
   "cell_type": "code",
   "execution_count": 27,
   "id": "93424f3d",
   "metadata": {},
   "outputs": [],
   "source": [
    "x_train=x_train_b\n",
    "y_train=y_train_b"
   ]
  },
  {
   "cell_type": "code",
   "execution_count": 28,
   "id": "dd1606c0",
   "metadata": {},
   "outputs": [],
   "source": [
    "model3.compile(optimizer=Adam(learning_rate=0.0001), loss = 'binary_crossentropy', metrics=['accuracy'])"
   ]
  },
  {
   "cell_type": "code",
   "execution_count": 29,
   "id": "7f9dedca",
   "metadata": {},
   "outputs": [
    {
     "name": "stdout",
     "output_type": "stream",
     "text": [
      "Epoch 1/20\n",
      " 1/20 [>.............................] - ETA: 9s - loss: 0.8763 - accuracy: 0.5938"
     ]
    },
    {
     "name": "stderr",
     "output_type": "stream",
     "text": [
      "2022-07-27 20:48:16.948011: I tensorflow/core/grappler/optimizers/custom_graph_optimizer_registry.cc:112] Plugin optimizer for device_type GPU is enabled.\n"
     ]
    },
    {
     "name": "stdout",
     "output_type": "stream",
     "text": [
      "20/20 [==============================] - 1s 32ms/step - loss: 1.0202 - accuracy: 0.5441\n",
      "Epoch 2/20\n",
      "20/20 [==============================] - 0s 15ms/step - loss: 0.9007 - accuracy: 0.6193\n",
      "Epoch 3/20\n",
      "20/20 [==============================] - 0s 15ms/step - loss: 0.8101 - accuracy: 0.6667\n",
      "Epoch 4/20\n",
      "20/20 [==============================] - 0s 15ms/step - loss: 0.7171 - accuracy: 0.6634\n",
      "Epoch 5/20\n",
      "20/20 [==============================] - 0s 16ms/step - loss: 0.7266 - accuracy: 0.6961\n",
      "Epoch 6/20\n",
      "20/20 [==============================] - 0s 15ms/step - loss: 0.6086 - accuracy: 0.7337\n",
      "Epoch 7/20\n",
      "20/20 [==============================] - 0s 15ms/step - loss: 0.6470 - accuracy: 0.7451\n",
      "Epoch 8/20\n",
      "20/20 [==============================] - 0s 16ms/step - loss: 0.6110 - accuracy: 0.7794\n",
      "Epoch 9/20\n",
      "20/20 [==============================] - 0s 16ms/step - loss: 0.5588 - accuracy: 0.7859\n",
      "Epoch 10/20\n",
      "20/20 [==============================] - 0s 16ms/step - loss: 0.5339 - accuracy: 0.7745\n",
      "Epoch 11/20\n",
      "20/20 [==============================] - 0s 16ms/step - loss: 0.5199 - accuracy: 0.7745\n",
      "Epoch 12/20\n",
      "20/20 [==============================] - 0s 15ms/step - loss: 0.4932 - accuracy: 0.7941\n",
      "Epoch 13/20\n",
      "20/20 [==============================] - 0s 15ms/step - loss: 0.5134 - accuracy: 0.7827\n",
      "Epoch 14/20\n",
      "20/20 [==============================] - 0s 15ms/step - loss: 0.5269 - accuracy: 0.8072\n",
      "Epoch 15/20\n",
      "20/20 [==============================] - 0s 16ms/step - loss: 0.4824 - accuracy: 0.8007\n",
      "Epoch 16/20\n",
      "20/20 [==============================] - 0s 16ms/step - loss: 0.5446 - accuracy: 0.7810\n",
      "Epoch 17/20\n",
      "20/20 [==============================] - 0s 15ms/step - loss: 0.4643 - accuracy: 0.7974\n",
      "Epoch 18/20\n",
      "20/20 [==============================] - 0s 16ms/step - loss: 0.4579 - accuracy: 0.8105\n",
      "Epoch 19/20\n",
      "20/20 [==============================] - 0s 16ms/step - loss: 0.4670 - accuracy: 0.8056\n",
      "Epoch 20/20\n",
      "20/20 [==============================] - 0s 16ms/step - loss: 0.4742 - accuracy: 0.7990\n"
     ]
    }
   ],
   "source": [
    "history = model3.fit(x_train, y_train, epochs=20, verbose=1)"
   ]
  },
  {
   "cell_type": "code",
   "execution_count": 30,
   "id": "fbf90d2e",
   "metadata": {},
   "outputs": [
    {
     "name": "stdout",
     "output_type": "stream",
     "text": [
      "([0.9377162629757786, 0.7222222222222222, 0.1059062850593256, 0.8611111111111112, 0.09477124183006536, 0.1830065359477124], [0.9003619331488184, 0.7027890142644241, 0.12300128296247782, 0.855072463768116, 0.11688311688311688, 0.18032786885245902])\n"
     ]
    },
    {
     "name": "stderr",
     "output_type": "stream",
     "text": [
      "2022-07-27 20:48:26.496900: I tensorflow/core/grappler/optimizers/custom_graph_optimizer_registry.cc:112] Plugin optimizer for device_type GPU is enabled.\n",
      "/Users/weixiao/miniforge3/envs/tensorflow/lib/python3.9/site-packages/tensorflow/python/keras/engine/sequential.py:430: UserWarning: `model.predict_proba()` is deprecated and will be removed after 2021-01-01. Please use `model.predict()` instead.\n",
      "  warnings.warn('`model.predict_proba()` is deprecated and '\n"
     ]
    }
   ],
   "source": [
    "print(scores(model3))"
   ]
  },
  {
   "cell_type": "code",
   "execution_count": 46,
   "id": "a3b995a1",
   "metadata": {},
   "outputs": [
    {
     "name": "stdout",
     "output_type": "stream",
     "text": [
      "WARNING:tensorflow:Layer lstm_2 will not use cuDNN kernels since it doesn't meet the criteria. It will use a generic GPU kernel as fallback when running on GPU.\n",
      "WARNING:tensorflow:Layer lstm_3 will not use cuDNN kernels since it doesn't meet the criteria. It will use a generic GPU kernel as fallback when running on GPU.\n"
     ]
    }
   ],
   "source": [
    "model4 = Sequential()\n",
    "model4.add(LSTM(32, input_shape=(1,13), activation='relu', return_sequences=True))\n",
    "model4.add(Dropout(0.2))\n",
    "\n",
    "model4.add(LSTM(64, activation='relu'))\n",
    "model4.add(Dropout(0.5))\n",
    "\n",
    "model4.add(Dense(64, activation='relu'))\n",
    "model4.add(Dropout(0.5))\n",
    "\n",
    "model4.add(Flatten())\n",
    "model4.add(Dense(1, activation='sigmoid'))"
   ]
  },
  {
   "cell_type": "code",
   "execution_count": 47,
   "id": "cc236b87",
   "metadata": {},
   "outputs": [],
   "source": [
    "x_train_b = x_train_b.reshape(x_train_b.shape[0],1,x_train_b.shape[1])"
   ]
  },
  {
   "cell_type": "code",
   "execution_count": 48,
   "id": "918ab948",
   "metadata": {},
   "outputs": [],
   "source": [
    "x_train=x_train_b\n",
    "y_train=y_train_b"
   ]
  },
  {
   "cell_type": "code",
   "execution_count": 49,
   "id": "5138db0d",
   "metadata": {},
   "outputs": [],
   "source": [
    "model4.compile(optimizer=Adam(learning_rate=0.001), loss = 'binary_crossentropy', metrics=['accuracy'])"
   ]
  },
  {
   "cell_type": "code",
   "execution_count": 50,
   "id": "8f0deb36",
   "metadata": {},
   "outputs": [
    {
     "name": "stdout",
     "output_type": "stream",
     "text": [
      "Epoch 1/20\n"
     ]
    },
    {
     "name": "stderr",
     "output_type": "stream",
     "text": [
      "2022-07-27 20:52:47.524127: I tensorflow/core/grappler/optimizers/custom_graph_optimizer_registry.cc:112] Plugin optimizer for device_type GPU is enabled.\n"
     ]
    },
    {
     "name": "stdout",
     "output_type": "stream",
     "text": [
      "20/20 [==============================] - 2s 26ms/step - loss: 0.6919 - accuracy: 0.5408\n",
      "Epoch 2/20\n",
      "20/20 [==============================] - 0s 20ms/step - loss: 0.6831 - accuracy: 0.7092\n",
      "Epoch 3/20\n",
      "20/20 [==============================] - 0s 21ms/step - loss: 0.6602 - accuracy: 0.7974\n",
      "Epoch 4/20\n",
      "20/20 [==============================] - 0s 20ms/step - loss: 0.5915 - accuracy: 0.8301\n",
      "Epoch 5/20\n",
      "20/20 [==============================] - 0s 20ms/step - loss: 0.4703 - accuracy: 0.8431\n",
      "Epoch 6/20\n",
      "20/20 [==============================] - 0s 20ms/step - loss: 0.3716 - accuracy: 0.8611\n",
      "Epoch 7/20\n",
      "20/20 [==============================] - 0s 20ms/step - loss: 0.3449 - accuracy: 0.8709\n",
      "Epoch 8/20\n",
      "20/20 [==============================] - 0s 21ms/step - loss: 0.3281 - accuracy: 0.8693\n",
      "Epoch 9/20\n",
      "20/20 [==============================] - 0s 22ms/step - loss: 0.3266 - accuracy: 0.8742\n",
      "Epoch 10/20\n",
      "20/20 [==============================] - 0s 21ms/step - loss: 0.3179 - accuracy: 0.8791\n",
      "Epoch 11/20\n",
      "20/20 [==============================] - 0s 20ms/step - loss: 0.2913 - accuracy: 0.8889\n",
      "Epoch 12/20\n",
      "20/20 [==============================] - 0s 20ms/step - loss: 0.2899 - accuracy: 0.8824\n",
      "Epoch 13/20\n",
      "20/20 [==============================] - 0s 20ms/step - loss: 0.2895 - accuracy: 0.8889\n",
      "Epoch 14/20\n",
      "20/20 [==============================] - 0s 21ms/step - loss: 0.2896 - accuracy: 0.8807\n",
      "Epoch 15/20\n",
      "20/20 [==============================] - 0s 20ms/step - loss: 0.2869 - accuracy: 0.8856\n",
      "Epoch 16/20\n",
      "20/20 [==============================] - 0s 22ms/step - loss: 0.2819 - accuracy: 0.8889\n",
      "Epoch 17/20\n",
      "20/20 [==============================] - 0s 21ms/step - loss: 0.2769 - accuracy: 0.8807\n",
      "Epoch 18/20\n",
      "20/20 [==============================] - 0s 20ms/step - loss: 0.2605 - accuracy: 0.8971\n",
      "Epoch 19/20\n",
      "20/20 [==============================] - 0s 20ms/step - loss: 0.2769 - accuracy: 0.8954\n",
      "Epoch 20/20\n",
      "20/20 [==============================] - 0s 21ms/step - loss: 0.2654 - accuracy: 0.8938\n"
     ]
    }
   ],
   "source": [
    "history=model4.fit(x_train_b, y_train_b, epochs=20)"
   ]
  },
  {
   "cell_type": "code",
   "execution_count": 51,
   "id": "b32da105",
   "metadata": {},
   "outputs": [
    {
     "name": "stderr",
     "output_type": "stream",
     "text": [
      "2022-07-27 20:52:59.116120: I tensorflow/core/grappler/optimizers/custom_graph_optimizer_registry.cc:112] Plugin optimizer for device_type GPU is enabled.\n",
      "/Users/weixiao/miniforge3/envs/tensorflow/lib/python3.9/site-packages/tensorflow/python/keras/engine/sequential.py:430: UserWarning: `model.predict_proba()` is deprecated and will be removed after 2021-01-01. Please use `model.predict()` instead.\n",
      "  warnings.warn('`model.predict_proba()` is deprecated and '\n"
     ]
    },
    {
     "name": "stdout",
     "output_type": "stream",
     "text": [
      "([0.9616280063223547, 0.7941176470588235, 0.07538085723677689, 0.8970588235294118, 0.1437908496732026, 0.06209150326797386], [0.9156908665105385, 0.7294017457951885, 0.11707587287667359, 0.8623188405797102, 0.15584415584415584, 0.11475409836065574])\n"
     ]
    }
   ],
   "source": [
    "print(scores(model4))"
   ]
  },
  {
   "cell_type": "code",
   "execution_count": null,
   "id": "d8da718c",
   "metadata": {},
   "outputs": [],
   "source": []
  }
 ],
 "metadata": {
  "kernelspec": {
   "display_name": "Python [conda env:tensorflow] *",
   "language": "python",
   "name": "conda-env-tensorflow-py"
  },
  "language_info": {
   "codemirror_mode": {
    "name": "ipython",
    "version": 3
   },
   "file_extension": ".py",
   "mimetype": "text/x-python",
   "name": "python",
   "nbconvert_exporter": "python",
   "pygments_lexer": "ipython3",
   "version": "3.9.13"
  }
 },
 "nbformat": 4,
 "nbformat_minor": 5
}
