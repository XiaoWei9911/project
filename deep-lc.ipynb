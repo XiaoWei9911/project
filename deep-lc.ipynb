{
 "cells": [
  {
   "cell_type": "code",
   "execution_count": 1,
   "id": "4df241a0",
   "metadata": {},
   "outputs": [
    {
     "name": "stdout",
     "output_type": "stream",
     "text": [
      "Init Plugin\n",
      "Init Graph Optimizer\n",
      "Init Kernel\n"
     ]
    }
   ],
   "source": [
    "import tensorflow as tf\n",
    "from tensorflow import keras\n",
    "from tensorflow.keras import Sequential\n",
    "from tensorflow.keras.layers import Flatten, Dense, Dropout, BatchNormalization\n",
    "from tensorflow.keras.layers import Conv1D, MaxPool1D\n",
    "from keras.layers import Embedding, Dense, LSTM, Activation, Dropout, Flatten\n",
    "from tensorflow.keras.optimizers import Adam"
   ]
  },
  {
   "cell_type": "code",
   "execution_count": 2,
   "id": "9607df99",
   "metadata": {},
   "outputs": [],
   "source": [
    "import pandas as pd\n",
    "import numpy as np\n",
    "import  seaborn as sns\n",
    "import matplotlib.pyplot as plt\n",
    "from sklearn.model_selection import train_test_split\n",
    "from sklearn.preprocessing import StandardScaler"
   ]
  },
  {
   "cell_type": "code",
   "execution_count": 3,
   "id": "c7488afd",
   "metadata": {},
   "outputs": [],
   "source": [
    "lc=pd.read_table('./Lending Club/accepted loans reduced set.csv',on_bad_lines='skip',sep=\",\")"
   ]
  },
  {
   "cell_type": "code",
   "execution_count": 4,
   "id": "2753899a",
   "metadata": {},
   "outputs": [
    {
     "data": {
      "text/plain": [
       "1    45324\n",
       "0    14169\n",
       "Name: loan_status, dtype: int64"
      ]
     },
     "execution_count": 4,
     "metadata": {},
     "output_type": "execute_result"
    }
   ],
   "source": [
    "lc=lc.replace('Fully Paid',1)\n",
    "lc=lc.replace(['Charged Off','Late (31-120 days)','In Grace Period','Late (16-30 days)'],0)\n",
    "lc['loan_status'].value_counts()"
   ]
  },
  {
   "cell_type": "code",
   "execution_count": 5,
   "id": "f70abc09",
   "metadata": {},
   "outputs": [],
   "source": [
    "lc=lc.drop(columns=['emp_title','emp_length','last_pymnt_d','last_credit_pull_d','bc_open_to_buy','bc_util','mo_sin_old_il_acct','mths_since_recent_bc','mths_since_recent_bc_dlq','mths_since_recent_inq','mths_since_recent_revol_delinq','num_tl_120dpd_2m','percent_bc_gt_75'])"
   ]
  },
  {
   "cell_type": "code",
   "execution_count": 6,
   "id": "f729dd11",
   "metadata": {},
   "outputs": [],
   "source": [
    "lc.fillna(method='bfill',inplace=True)"
   ]
  },
  {
   "cell_type": "code",
   "execution_count": 7,
   "id": "9da31741",
   "metadata": {},
   "outputs": [],
   "source": [
    "from sklearn.preprocessing import OneHotEncoder\n",
    "from sklearn.preprocessing import StandardScaler,MinMaxScaler"
   ]
  },
  {
   "cell_type": "code",
   "execution_count": 8,
   "id": "dcfe66de",
   "metadata": {},
   "outputs": [],
   "source": [
    "lc_pre=lc.copy(deep=True)\n",
    "lc_pre=lc_pre.drop(columns=['loan_status'])\n",
    "numer_lc=MinMaxScaler().fit_transform(lc_pre.select_dtypes(include='number'))\n",
    "numer_lc=pd.DataFrame(numer_lc,columns = lc_pre.select_dtypes(include='number').columns)\n",
    "#print(numer_ger)\n",
    "\n",
    "cate_lc=pd.get_dummies(lc_pre.select_dtypes(exclude='number'))\n",
    "\n",
    "\n",
    "scale_lc=pd.concat([numer_lc, cate_lc, lc[['loan_status']]], axis=1)\n",
    "#scale_ger=StandardScaler().fit_transform(pd.concat([numer_ger, cate_ger, ger[['Label']]], axis=1))\n",
    "#scale_ger=pd.DataFrame(scale_ger)"
   ]
  },
  {
   "cell_type": "code",
   "execution_count": 9,
   "id": "ee8d0987",
   "metadata": {},
   "outputs": [],
   "source": [
    "from sklearn.ensemble import RandomForestClassifier\n",
    "X, y = scale_lc.loc[:, np.delete(scale_lc.columns.values, \n",
    "                                        np.where(scale_lc.columns.values == ['loan_status']))], \\\n",
    "        scale_lc.loc[:, 'loan_status']\n",
    "\n",
    "# train on randomForest to get important features\n",
    "clf = RandomForestClassifier(n_estimators=100, max_depth=2,\n",
    "                             random_state=0)\n",
    "clf.fit(X, y) \n",
    "\n",
    "feature_importances = pd.DataFrame(sorted(zip(scale_lc.columns, clf.feature_importances_), key=lambda x: x[1] * -1),\n",
    "                                    columns = ['feature','importance'])"
   ]
  },
  {
   "cell_type": "code",
   "execution_count": 11,
   "id": "16e5dacc",
   "metadata": {},
   "outputs": [],
   "source": [
    "top_features = feature_importances[feature_importances.importance>0]['feature'].values\n",
    "\n",
    "X, y = scale_lc.loc[:,top_features], scale_lc.loc[:,'loan_status']"
   ]
  },
  {
   "cell_type": "code",
   "execution_count": 12,
   "id": "33235d52",
   "metadata": {},
   "outputs": [],
   "source": [
    "from imblearn.over_sampling import SMOTE"
   ]
  },
  {
   "cell_type": "code",
   "execution_count": 13,
   "id": "aa3c5a10",
   "metadata": {},
   "outputs": [],
   "source": [
    "x_train, x_test, y_train, y_test = train_test_split(X, y, test_size = 0.2, random_state = 0,stratify = y)\n",
    "sm = SMOTE(random_state=0,sampling_strategy=1)\n",
    "x_train_b, y_train_b = sm.fit_resample(x_train, y_train.ravel())"
   ]
  },
  {
   "cell_type": "code",
   "execution_count": 14,
   "id": "6a21c774",
   "metadata": {},
   "outputs": [],
   "source": [
    "from scipy.stats import ks_2samp"
   ]
  },
  {
   "cell_type": "code",
   "execution_count": 15,
   "id": "69087c1f",
   "metadata": {},
   "outputs": [],
   "source": [
    "def ks_stat(y, yhat):\n",
    "    return ks_2samp(yhat[y==1], yhat[y!=1]).statistic"
   ]
  },
  {
   "cell_type": "code",
   "execution_count": 16,
   "id": "b53ca0c1",
   "metadata": {},
   "outputs": [],
   "source": [
    "def type2_calcu(y,yhat):\n",
    "    confusion =confusion_matrix(y,yhat)\n",
    "    #[row, column]\n",
    "    TP = confusion[1, 1]\n",
    "    TN = confusion[0, 0]\n",
    "    FP = confusion[0, 1]\n",
    "    FN = confusion[1, 0]\n",
    "    return FP / float(FP + TN)\n",
    "def type1_calcu(y,yhat):\n",
    "    confusion =confusion_matrix(y,yhat)\n",
    "    #[row, column]\n",
    "    TP = confusion[1, 1]\n",
    "    TN = confusion[0, 0]\n",
    "    FP = confusion[0, 1]\n",
    "    FN = confusion[1, 0]\n",
    "    return FN / float(TP + FN)"
   ]
  },
  {
   "cell_type": "code",
   "execution_count": 17,
   "id": "5fcfc722",
   "metadata": {},
   "outputs": [],
   "source": [
    "def scores(model):\n",
    "    train=[]\n",
    "    test=[]\n",
    "    y_train_c=model.predict(x_train)\n",
    "    y_train_pre=model.predict_proba(x_train)\n",
    "    y_pred_c=model.predict(x_test)\n",
    "    y_pred = model.predict_proba(x_test)\n",
    "    #roc\n",
    "    train.append(roc_auc_score(y_train,y_train_pre))\n",
    "    test.append(roc_auc_score(y_test, y_pred))\n",
    "    #ks\n",
    "    train.append(ks_stat(y_train,np.round(y_train_c[:,0],0)))\n",
    "    test.append(ks_stat(y_test, np.round(y_pred_c[:,0],0)))\n",
    "    #brier\n",
    "    train.append(brier_score_loss(y_train,y_train_pre))\n",
    "    test.append(brier_score_loss(y_test, y_pred))\n",
    "    #acc\n",
    "    train.append(accuracy_score(y_train,np.round(y_train_c,0)))\n",
    "    test.append(accuracy_score(y_test, np.round(y_pred_c,0)))\n",
    "    #t1\n",
    "    train.append(type1_calcu(y_train,np.round(y_train_c,0)))\n",
    "    test.append(type1_calcu(y_test, np.round(y_pred_c,0)))\n",
    "    #t2\n",
    "    train.append(type2_calcu(y_train,np.round(y_train_c,0)))\n",
    "    test.append(type2_calcu(y_test, np.round(y_pred_c,0)))\n",
    "    return train,test"
   ]
  },
  {
   "cell_type": "code",
   "execution_count": 18,
   "id": "187c70fd",
   "metadata": {},
   "outputs": [
    {
     "name": "stdout",
     "output_type": "stream",
     "text": [
      "(47594, 103)\n"
     ]
    }
   ],
   "source": [
    "print(x_train.shape)"
   ]
  },
  {
   "cell_type": "code",
   "execution_count": 19,
   "id": "efd2c511",
   "metadata": {},
   "outputs": [],
   "source": [
    "x_train=StandardScaler().fit_transform(x_train)\n",
    "x_test=StandardScaler().fit_transform(x_test)\n",
    "\n",
    "x_train_b=StandardScaler().fit_transform(x_train_b)"
   ]
  },
  {
   "cell_type": "code",
   "execution_count": 20,
   "id": "5e7956b4",
   "metadata": {},
   "outputs": [],
   "source": [
    "x_train = x_train.reshape(x_train.shape[0], x_train.shape[1], 1)\n",
    "x_test = x_test.reshape(x_test.shape[0], x_test.shape[1], 1)\n",
    "\n",
    "x_train_b = x_train_b.reshape(x_train_b.shape[0], x_train_b.shape[1], 1)"
   ]
  },
  {
   "cell_type": "code",
   "execution_count": 21,
   "id": "f423d606",
   "metadata": {},
   "outputs": [
    {
     "name": "stdout",
     "output_type": "stream",
     "text": [
      "Metal device set to: Apple M1 Pro\n"
     ]
    },
    {
     "name": "stderr",
     "output_type": "stream",
     "text": [
      "2022-07-28 07:55:42.014201: I tensorflow/core/common_runtime/pluggable_device/pluggable_device_factory.cc:305] Could not identify NUMA node of platform GPU ID 0, defaulting to 0. Your kernel may not have been built with NUMA support.\n",
      "2022-07-28 07:55:42.014381: I tensorflow/core/common_runtime/pluggable_device/pluggable_device_factory.cc:271] Created TensorFlow device (/job:localhost/replica:0/task:0/device:GPU:0 with 0 MB memory) -> physical PluggableDevice (device: 0, name: METAL, pci bus id: <undefined>)\n"
     ]
    }
   ],
   "source": [
    "epochs = 20\n",
    "model = Sequential()\n",
    "model.add(Conv1D(32, 2, activation='relu',input_shape = x_train[0].shape))\n",
    "model.add(BatchNormalization())\n",
    "model.add(Dropout(0.2))\n",
    "\n",
    "model.add(Conv1D(64, 2, activation='relu'))\n",
    "model.add(BatchNormalization())\n",
    "model.add(Dropout(0.5))\n",
    "\n",
    "model.add(Flatten())\n",
    "model.add(Dense(64, activation='relu'))\n",
    "model.add(Dropout(0.5))\n",
    "\n",
    "model.add(Dense(1, activation='sigmoid'))"
   ]
  },
  {
   "cell_type": "code",
   "execution_count": 22,
   "id": "35814033",
   "metadata": {},
   "outputs": [
    {
     "name": "stdout",
     "output_type": "stream",
     "text": [
      "Model: \"sequential\"\n",
      "_________________________________________________________________\n",
      "Layer (type)                 Output Shape              Param #   \n",
      "=================================================================\n",
      "conv1d (Conv1D)              (None, 102, 32)           96        \n",
      "_________________________________________________________________\n",
      "batch_normalization (BatchNo (None, 102, 32)           128       \n",
      "_________________________________________________________________\n",
      "module_wrapper (ModuleWrappe (None, 102, 32)           0         \n",
      "_________________________________________________________________\n",
      "conv1d_1 (Conv1D)            (None, 101, 64)           4160      \n",
      "_________________________________________________________________\n",
      "batch_normalization_1 (Batch (None, 101, 64)           256       \n",
      "_________________________________________________________________\n",
      "module_wrapper_1 (ModuleWrap (None, 101, 64)           0         \n",
      "_________________________________________________________________\n",
      "module_wrapper_2 (ModuleWrap (None, 6464)              0         \n",
      "_________________________________________________________________\n",
      "module_wrapper_3 (ModuleWrap (None, 64)                413760    \n",
      "_________________________________________________________________\n",
      "module_wrapper_4 (ModuleWrap (None, 64)                0         \n",
      "_________________________________________________________________\n",
      "module_wrapper_5 (ModuleWrap (None, 1)                 65        \n",
      "=================================================================\n",
      "Total params: 418,465\n",
      "Trainable params: 418,273\n",
      "Non-trainable params: 192\n",
      "_________________________________________________________________\n"
     ]
    }
   ],
   "source": [
    "model.summary()"
   ]
  },
  {
   "cell_type": "code",
   "execution_count": 23,
   "id": "d5fde345",
   "metadata": {},
   "outputs": [],
   "source": [
    "model.compile(optimizer=Adam(learning_rate=0.0001), loss = 'binary_crossentropy', metrics=['accuracy'])"
   ]
  },
  {
   "cell_type": "code",
   "execution_count": 25,
   "id": "a6a7ab4a",
   "metadata": {},
   "outputs": [
    {
     "name": "stdout",
     "output_type": "stream",
     "text": [
      "Epoch 1/10\n",
      "1488/1488 [==============================] - 22s 15ms/step - loss: 0.1500 - accuracy: 0.9422\n",
      "Epoch 2/10\n",
      "1488/1488 [==============================] - 21s 14ms/step - loss: 0.1248 - accuracy: 0.9525\n",
      "Epoch 3/10\n",
      "1488/1488 [==============================] - 22s 14ms/step - loss: 0.1165 - accuracy: 0.9546\n",
      "Epoch 4/10\n",
      "1488/1488 [==============================] - 21s 14ms/step - loss: 0.1128 - accuracy: 0.9551\n",
      "Epoch 5/10\n",
      "1488/1488 [==============================] - 21s 14ms/step - loss: 0.1092 - accuracy: 0.9569\n",
      "Epoch 6/10\n",
      "1488/1488 [==============================] - 22s 14ms/step - loss: 0.1052 - accuracy: 0.9586\n",
      "Epoch 7/10\n",
      "1488/1488 [==============================] - 22s 15ms/step - loss: 0.1041 - accuracy: 0.9591\n",
      "Epoch 8/10\n",
      "1488/1488 [==============================] - 22s 15ms/step - loss: 0.1025 - accuracy: 0.9583\n",
      "Epoch 9/10\n",
      "1488/1488 [==============================] - 22s 15ms/step - loss: 0.1002 - accuracy: 0.9600\n",
      "Epoch 10/10\n",
      "1488/1488 [==============================] - 22s 15ms/step - loss: 0.0993 - accuracy: 0.9601\n"
     ]
    }
   ],
   "source": [
    "history = model.fit(x_train, y_train, epochs=10, verbose=1)"
   ]
  },
  {
   "cell_type": "code",
   "execution_count": 26,
   "id": "74425707",
   "metadata": {},
   "outputs": [],
   "source": [
    "from sklearn.metrics import roc_auc_score, recall_score, precision_score,make_scorer,confusion_matrix,brier_score_loss,accuracy_score"
   ]
  },
  {
   "cell_type": "code",
   "execution_count": 27,
   "id": "d99bbfd5",
   "metadata": {},
   "outputs": [
    {
     "name": "stderr",
     "output_type": "stream",
     "text": [
      "2022-07-28 07:59:45.743531: I tensorflow/core/grappler/optimizers/custom_graph_optimizer_registry.cc:112] Plugin optimizer for device_type GPU is enabled.\n",
      "/Users/weixiao/miniforge3/envs/tensorflow/lib/python3.9/site-packages/tensorflow/python/keras/engine/sequential.py:430: UserWarning: `model.predict_proba()` is deprecated and will be removed after 2021-01-01. Please use `model.predict()` instead.\n",
      "  warnings.warn('`model.predict_proba()` is deprecated and '\n"
     ]
    },
    {
     "name": "stdout",
     "output_type": "stream",
     "text": [
      "([0.9930460086370962, 0.8795271235945703, 0.026656256050146585, 0.963566836155818, 0.014782536749496677, 0.10569033965593295], [0.9919103619627866, 0.8771548772859389, 0.027690668388674945, 0.9627699806706446, 0.01522338665195808, 0.10762173606210304])\n"
     ]
    }
   ],
   "source": [
    "print(scores(model))"
   ]
  },
  {
   "cell_type": "code",
   "execution_count": 28,
   "id": "e313f57d",
   "metadata": {},
   "outputs": [
    {
     "name": "stdout",
     "output_type": "stream",
     "text": [
      "WARNING:tensorflow:Layer lstm will not use cuDNN kernels since it doesn't meet the criteria. It will use a generic GPU kernel as fallback when running on GPU.\n",
      "WARNING:tensorflow:Layer lstm_1 will not use cuDNN kernels since it doesn't meet the criteria. It will use a generic GPU kernel as fallback when running on GPU.\n"
     ]
    }
   ],
   "source": [
    "model2 = Sequential()\n",
    "model2.add(LSTM(32, input_shape=(1,103), activation='relu', return_sequences=True))\n",
    "model2.add(Dropout(0.2))\n",
    "\n",
    "model2.add(LSTM(64, activation='relu'))\n",
    "model2.add(Dropout(0.5))\n",
    "\n",
    "model2.add(Dense(64, activation='relu'))\n",
    "model2.add(Dropout(0.5))\n",
    "\n",
    "model2.add(Flatten())\n",
    "model2.add(Dense(1, activation='sigmoid'))"
   ]
  },
  {
   "cell_type": "code",
   "execution_count": 29,
   "id": "e109290e",
   "metadata": {},
   "outputs": [],
   "source": [
    "x_train = x_train.reshape(x_train.shape[0], 1,x_train.shape[1])\n",
    "x_test = x_test.reshape(x_test.shape[0], 1,x_test.shape[1])"
   ]
  },
  {
   "cell_type": "code",
   "execution_count": 30,
   "id": "e58e0bb3",
   "metadata": {},
   "outputs": [
    {
     "data": {
      "text/plain": [
       "(47594, 1, 103)"
      ]
     },
     "execution_count": 30,
     "metadata": {},
     "output_type": "execute_result"
    }
   ],
   "source": [
    "x_train.shape"
   ]
  },
  {
   "cell_type": "code",
   "execution_count": 31,
   "id": "b3c59476",
   "metadata": {},
   "outputs": [],
   "source": [
    "model2.compile(optimizer=Adam(learning_rate=0.001), loss = 'binary_crossentropy', metrics=['accuracy'])"
   ]
  },
  {
   "cell_type": "code",
   "execution_count": 33,
   "id": "3829cdec",
   "metadata": {},
   "outputs": [
    {
     "name": "stdout",
     "output_type": "stream",
     "text": [
      "Epoch 1/10\n",
      "1488/1488 [==============================] - 30s 20ms/step - loss: 0.1205 - accuracy: 0.9543\n",
      "Epoch 2/10\n",
      "1488/1488 [==============================] - 30s 20ms/step - loss: 0.1091 - accuracy: 0.9564\n",
      "Epoch 3/10\n",
      "1488/1488 [==============================] - 30s 20ms/step - loss: 0.1045 - accuracy: 0.9582\n",
      "Epoch 4/10\n",
      "1488/1488 [==============================] - 30s 20ms/step - loss: 0.0978 - accuracy: 0.9616\n",
      "Epoch 5/10\n",
      "1488/1488 [==============================] - 30s 20ms/step - loss: 0.0948 - accuracy: 0.9629\n",
      "Epoch 6/10\n",
      "1488/1488 [==============================] - 30s 20ms/step - loss: 0.0906 - accuracy: 0.9645\n",
      "Epoch 7/10\n",
      "1488/1488 [==============================] - 29s 20ms/step - loss: 0.0888 - accuracy: 0.9646\n",
      "Epoch 8/10\n",
      "1488/1488 [==============================] - 29s 20ms/step - loss: 0.0870 - accuracy: 0.9661\n",
      "Epoch 9/10\n",
      "1488/1488 [==============================] - 29s 20ms/step - loss: 0.0856 - accuracy: 0.9667\n",
      "Epoch 10/10\n",
      "1488/1488 [==============================] - 30s 20ms/step - loss: 0.0827 - accuracy: 0.9668\n"
     ]
    }
   ],
   "source": [
    "history=model2.fit(x_train, y_train, epochs=10)"
   ]
  },
  {
   "cell_type": "code",
   "execution_count": 34,
   "id": "dfe18ad2",
   "metadata": {},
   "outputs": [
    {
     "name": "stderr",
     "output_type": "stream",
     "text": [
      "2022-07-28 08:24:57.930512: I tensorflow/core/grappler/optimizers/custom_graph_optimizer_registry.cc:112] Plugin optimizer for device_type GPU is enabled.\n",
      "/Users/weixiao/miniforge3/envs/tensorflow/lib/python3.9/site-packages/tensorflow/python/keras/engine/sequential.py:430: UserWarning: `model.predict_proba()` is deprecated and will be removed after 2021-01-01. Please use `model.predict()` instead.\n",
      "  warnings.warn('`model.predict_proba()` is deprecated and '\n"
     ]
    },
    {
     "name": "stdout",
     "output_type": "stream",
     "text": [
      "([0.9954902710493867, 0.920070052303337, 0.020753667903822947, 0.9721393452956255, 0.01685098872004192, 0.06307895897662108], [0.9902117187831475, 0.8927215075314682, 0.028226759211376344, 0.9624338179678965, 0.022945394373965804, 0.08433309809456599])\n"
     ]
    }
   ],
   "source": [
    "print(scores(model2))"
   ]
  },
  {
   "cell_type": "code",
   "execution_count": 35,
   "id": "a55766e0",
   "metadata": {},
   "outputs": [],
   "source": [
    "epochs = 20\n",
    "model3 = Sequential()\n",
    "model3.add(Conv1D(32, 2, activation='relu',input_shape = x_train_b[0].shape))\n",
    "model3.add(BatchNormalization())\n",
    "model3.add(Dropout(0.2))\n",
    "\n",
    "model3.add(Conv1D(64, 2, activation='relu'))\n",
    "model3.add(BatchNormalization())\n",
    "model3.add(Dropout(0.5))\n",
    "\n",
    "model3.add(Flatten())\n",
    "model3.add(Dense(64, activation='relu'))\n",
    "model3.add(Dropout(0.5))\n",
    "\n",
    "model3.add(Dense(1, activation='sigmoid'))"
   ]
  },
  {
   "cell_type": "code",
   "execution_count": 41,
   "id": "93424f3d",
   "metadata": {},
   "outputs": [],
   "source": [
    "#x_train=x_train_b\n",
    "#y_train=y_train_b\n",
    "x_test = x_test.reshape(x_test.shape[0],x_test.shape[2],1)"
   ]
  },
  {
   "cell_type": "code",
   "execution_count": 42,
   "id": "c610392c",
   "metadata": {},
   "outputs": [
    {
     "data": {
      "text/plain": [
       "(11899, 103, 1)"
      ]
     },
     "execution_count": 42,
     "metadata": {},
     "output_type": "execute_result"
    }
   ],
   "source": [
    "x_test.shape"
   ]
  },
  {
   "cell_type": "code",
   "execution_count": 37,
   "id": "dd1606c0",
   "metadata": {},
   "outputs": [],
   "source": [
    "model3.compile(optimizer=Adam(learning_rate=0.0001), loss = 'binary_crossentropy', metrics=['accuracy'])"
   ]
  },
  {
   "cell_type": "code",
   "execution_count": 38,
   "id": "7f9dedca",
   "metadata": {},
   "outputs": [
    {
     "name": "stdout",
     "output_type": "stream",
     "text": [
      "Epoch 1/10\n",
      "   1/2267 [..............................] - ETA: 22:37 - loss: 1.3065 - accuracy: 0.4062"
     ]
    },
    {
     "name": "stderr",
     "output_type": "stream",
     "text": [
      "2022-07-28 08:25:16.227165: I tensorflow/core/grappler/optimizers/custom_graph_optimizer_registry.cc:112] Plugin optimizer for device_type GPU is enabled.\n"
     ]
    },
    {
     "name": "stdout",
     "output_type": "stream",
     "text": [
      "2267/2267 [==============================] - 34s 15ms/step - loss: 0.2117 - accuracy: 0.9175\n",
      "Epoch 2/10\n",
      "2267/2267 [==============================] - 33s 15ms/step - loss: 0.1262 - accuracy: 0.9510\n",
      "Epoch 3/10\n",
      "2267/2267 [==============================] - 33s 15ms/step - loss: 0.1114 - accuracy: 0.9566\n",
      "Epoch 4/10\n",
      "2267/2267 [==============================] - 33s 15ms/step - loss: 0.1063 - accuracy: 0.9582\n",
      "Epoch 5/10\n",
      "2267/2267 [==============================] - 33s 15ms/step - loss: 0.1011 - accuracy: 0.9613\n",
      "Epoch 6/10\n",
      "2267/2267 [==============================] - 33s 15ms/step - loss: 0.0988 - accuracy: 0.9616\n",
      "Epoch 7/10\n",
      "2267/2267 [==============================] - 34s 15ms/step - loss: 0.0955 - accuracy: 0.9627\n",
      "Epoch 8/10\n",
      "2267/2267 [==============================] - 34s 15ms/step - loss: 0.0930 - accuracy: 0.9638\n",
      "Epoch 9/10\n",
      "2267/2267 [==============================] - 34s 15ms/step - loss: 0.0926 - accuracy: 0.9633\n",
      "Epoch 10/10\n",
      "2267/2267 [==============================] - 34s 15ms/step - loss: 0.0891 - accuracy: 0.9644\n"
     ]
    }
   ],
   "source": [
    "history = model3.fit(x_train, y_train, epochs=10, verbose=1)"
   ]
  },
  {
   "cell_type": "code",
   "execution_count": 43,
   "id": "fbf90d2e",
   "metadata": {},
   "outputs": [
    {
     "name": "stdout",
     "output_type": "stream",
     "text": [
      "([0.9965655992197445, 0.9394633056620425, 0.022675507720913552, 0.9697316528310213, 0.03601864364709451, 0.024518050690862957], [0.9887505785277738, 0.6437298099159174, 0.2077706678020902, 0.7300613496932515, 0.3534473248758963, 0.0028228652081863093])\n"
     ]
    }
   ],
   "source": [
    "print(scores(model3))"
   ]
  },
  {
   "cell_type": "code",
   "execution_count": null,
   "id": "2952bb4f",
   "metadata": {},
   "outputs": [],
   "source": []
  },
  {
   "cell_type": "code",
   "execution_count": 46,
   "id": "a3b995a1",
   "metadata": {},
   "outputs": [
    {
     "name": "stdout",
     "output_type": "stream",
     "text": [
      "WARNING:tensorflow:Layer lstm_2 will not use cuDNN kernels since it doesn't meet the criteria. It will use a generic GPU kernel as fallback when running on GPU.\n",
      "WARNING:tensorflow:Layer lstm_3 will not use cuDNN kernels since it doesn't meet the criteria. It will use a generic GPU kernel as fallback when running on GPU.\n"
     ]
    }
   ],
   "source": [
    "model4 = Sequential()\n",
    "model4.add(LSTM(32, input_shape=(1,103), activation='relu', return_sequences=True))\n",
    "model4.add(Dropout(0.2))\n",
    "\n",
    "model4.add(LSTM(64, activation='relu'))\n",
    "model4.add(Dropout(0.5))\n",
    "\n",
    "model4.add(Dense(64, activation='relu'))\n",
    "model4.add(Dropout(0.5))\n",
    "\n",
    "model4.add(Flatten())\n",
    "model4.add(Dense(1, activation='sigmoid'))"
   ]
  },
  {
   "cell_type": "code",
   "execution_count": 44,
   "id": "cc236b87",
   "metadata": {},
   "outputs": [],
   "source": [
    "x_train_b = x_train_b.reshape(x_train_b.shape[0],1,x_train_b.shape[1])\n",
    "x_test = x_test.reshape(x_test.shape[0],1,x_test.shape[1])"
   ]
  },
  {
   "cell_type": "code",
   "execution_count": 45,
   "id": "918ab948",
   "metadata": {},
   "outputs": [],
   "source": [
    "x_train=x_train_b\n",
    "y_train=y_train_b"
   ]
  },
  {
   "cell_type": "code",
   "execution_count": 47,
   "id": "5138db0d",
   "metadata": {},
   "outputs": [],
   "source": [
    "model4.compile(optimizer=Adam(learning_rate=0.001), loss = 'binary_crossentropy', metrics=['accuracy'])"
   ]
  },
  {
   "cell_type": "code",
   "execution_count": 49,
   "id": "8f0deb36",
   "metadata": {},
   "outputs": [
    {
     "name": "stdout",
     "output_type": "stream",
     "text": [
      "Epoch 1/10\n",
      "2267/2267 [==============================] - 45s 20ms/step - loss: 0.1402 - accuracy: 0.9486\n",
      "Epoch 2/10\n",
      "2267/2267 [==============================] - 45s 20ms/step - loss: 0.1126 - accuracy: 0.9574\n",
      "Epoch 3/10\n",
      "2267/2267 [==============================] - 45s 20ms/step - loss: 0.1029 - accuracy: 0.9609\n",
      "Epoch 4/10\n",
      "2267/2267 [==============================] - 45s 20ms/step - loss: 0.0953 - accuracy: 0.9635\n",
      "Epoch 5/10\n",
      "2267/2267 [==============================] - 45s 20ms/step - loss: 0.0902 - accuracy: 0.9649\n",
      "Epoch 6/10\n",
      "2267/2267 [==============================] - 45s 20ms/step - loss: 0.0865 - accuracy: 0.9663\n",
      "Epoch 7/10\n",
      "2267/2267 [==============================] - 45s 20ms/step - loss: 0.0842 - accuracy: 0.9673\n",
      "Epoch 8/10\n",
      "2267/2267 [==============================] - 45s 20ms/step - loss: 0.0806 - accuracy: 0.9694\n",
      "Epoch 9/10\n",
      "2267/2267 [==============================] - 45s 20ms/step - loss: 0.0782 - accuracy: 0.9701\n",
      "Epoch 10/10\n",
      "2267/2267 [==============================] - 45s 20ms/step - loss: 0.0759 - accuracy: 0.9707\n"
     ]
    }
   ],
   "source": [
    "history=model4.fit(x_train, y_train, epochs=10)"
   ]
  },
  {
   "cell_type": "code",
   "execution_count": 50,
   "id": "b32da105",
   "metadata": {},
   "outputs": [
    {
     "name": "stderr",
     "output_type": "stream",
     "text": [
      "2022-07-28 12:59:41.072789: I tensorflow/core/grappler/optimizers/custom_graph_optimizer_registry.cc:112] Plugin optimizer for device_type GPU is enabled.\n",
      "/Users/weixiao/miniforge3/envs/tensorflow/lib/python3.9/site-packages/tensorflow/python/keras/engine/sequential.py:430: UserWarning: `model.predict_proba()` is deprecated and will be removed after 2021-01-01. Please use `model.predict()` instead.\n",
      "  warnings.warn('`model.predict_proba()` is deprecated and '\n"
     ]
    },
    {
     "name": "stdout",
     "output_type": "stream",
     "text": [
      "([0.9977916211337656, 0.9545767947268264, 0.017427670755510966, 0.9772883973634132, 0.02087757522270333, 0.024545630050470228], [0.9859835322482767, 0.6862688160197989, 0.19186077451089661, 0.7646861080763089, 0.3066740209597352, 0.007057163020465773])\n"
     ]
    }
   ],
   "source": [
    "print(scores(model4))"
   ]
  },
  {
   "cell_type": "code",
   "execution_count": null,
   "id": "d8da718c",
   "metadata": {},
   "outputs": [],
   "source": []
  }
 ],
 "metadata": {
  "kernelspec": {
   "display_name": "Python [conda env:tensorflow] *",
   "language": "python",
   "name": "conda-env-tensorflow-py"
  },
  "language_info": {
   "codemirror_mode": {
    "name": "ipython",
    "version": 3
   },
   "file_extension": ".py",
   "mimetype": "text/x-python",
   "name": "python",
   "nbconvert_exporter": "python",
   "pygments_lexer": "ipython3",
   "version": "3.9.13"
  }
 },
 "nbformat": 4,
 "nbformat_minor": 5
}
