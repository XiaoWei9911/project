{
 "cells": [
  {
   "cell_type": "code",
   "execution_count": 1,
   "id": "4df241a0",
   "metadata": {},
   "outputs": [
    {
     "name": "stdout",
     "output_type": "stream",
     "text": [
      "Init Plugin\n",
      "Init Graph Optimizer\n",
      "Init Kernel\n"
     ]
    }
   ],
   "source": [
    "import tensorflow as tf\n",
    "from tensorflow import keras\n",
    "from tensorflow.keras import Sequential\n",
    "from tensorflow.keras.layers import Flatten, Dense, Dropout, BatchNormalization\n",
    "from tensorflow.keras.layers import Conv1D, MaxPool1D\n",
    "from keras.layers import Embedding, Dense, LSTM, Activation, Dropout, Flatten\n",
    "from tensorflow.keras.optimizers import Adam"
   ]
  },
  {
   "cell_type": "code",
   "execution_count": 2,
   "id": "9607df99",
   "metadata": {},
   "outputs": [],
   "source": [
    "import pandas as pd\n",
    "import numpy as np\n",
    "import  seaborn as sns\n",
    "import matplotlib.pyplot as plt\n",
    "from sklearn.model_selection import train_test_split\n",
    "from sklearn.preprocessing import StandardScaler"
   ]
  },
  {
   "cell_type": "code",
   "execution_count": 36,
   "id": "c7488afd",
   "metadata": {},
   "outputs": [],
   "source": [
    "gmsc_train=pd.read_table('./Give Me Some Credit/cs-training.csv',sep=',')\n",
    "gmsc_train=gmsc_train.drop(columns=['Unnamed: 0'])\n",
    "gmsc_train.fillna(method='bfill',inplace=True)"
   ]
  },
  {
   "cell_type": "code",
   "execution_count": 37,
   "id": "e55ec0f9",
   "metadata": {},
   "outputs": [],
   "source": [
    "from sklearn.preprocessing import OneHotEncoder\n",
    "from sklearn.preprocessing import StandardScaler"
   ]
  },
  {
   "cell_type": "code",
   "execution_count": 38,
   "id": "d652e862",
   "metadata": {},
   "outputs": [],
   "source": [
    "gmsc_pre=gmsc_train.copy(deep=True)\n",
    "gmsc_pre=gmsc_pre.drop(columns=['SeriousDlqin2yrs'])\n",
    "pre_gmsc=StandardScaler().fit_transform(gmsc_pre)\n",
    "pre_gmsc=pd.DataFrame(pre_gmsc,columns = gmsc_pre.select_dtypes(include='number').columns)\n",
    "pre_gmsc=pd.concat([pre_gmsc, gmsc_train[['SeriousDlqin2yrs']]], axis=1)"
   ]
  },
  {
   "cell_type": "code",
   "execution_count": 39,
   "id": "48bc2586",
   "metadata": {},
   "outputs": [],
   "source": [
    "from sklearn.ensemble import RandomForestClassifier\n",
    "X, y = pre_gmsc.loc[:, np.delete(pre_gmsc.columns.values, \n",
    "                                        np.where(pre_gmsc.columns.values == ['SeriousDlqin2yrs']))], \\\n",
    "        pre_gmsc.loc[:, 'SeriousDlqin2yrs']\n",
    "\n",
    "# train on randomForest to get important features\n",
    "clf = RandomForestClassifier(n_estimators=100, max_depth=2,\n",
    "                             random_state=0)\n",
    "clf.fit(X, y) \n",
    "\n",
    "feature_importances = pd.DataFrame(sorted(zip(pre_gmsc.columns, clf.feature_importances_), key=lambda x: x[1] * -1),\n",
    "                                    columns = ['feature','importance'])"
   ]
  },
  {
   "cell_type": "code",
   "execution_count": 40,
   "id": "555523df",
   "metadata": {},
   "outputs": [],
   "source": [
    "top_features = feature_importances[feature_importances.importance>0]['feature'].values\n",
    "\n",
    "X, y = pre_gmsc.loc[:,top_features], pre_gmsc.loc[:,'SeriousDlqin2yrs']"
   ]
  },
  {
   "cell_type": "code",
   "execution_count": 41,
   "id": "a676f6a9",
   "metadata": {},
   "outputs": [],
   "source": [
    "y=y*(-1)+1"
   ]
  },
  {
   "cell_type": "code",
   "execution_count": 42,
   "id": "4d074abd",
   "metadata": {},
   "outputs": [],
   "source": [
    "from sklearn.model_selection import train_test_split, KFold,cross_val_score,StratifiedKFold, GridSearchCV\n",
    "from imblearn.over_sampling import SMOTE"
   ]
  },
  {
   "cell_type": "code",
   "execution_count": 43,
   "id": "8a0dca6e",
   "metadata": {},
   "outputs": [],
   "source": [
    "x_train, x_test, y_train, y_test = train_test_split(X, y, test_size = 0.2, random_state = 0,stratify = y)\n",
    "sm = SMOTE(random_state=0,sampling_strategy=1)\n",
    "x_train_b, y_train_b = sm.fit_resample(x_train, y_train.ravel())"
   ]
  },
  {
   "cell_type": "code",
   "execution_count": 11,
   "id": "6a21c774",
   "metadata": {},
   "outputs": [],
   "source": [
    "from scipy.stats import ks_2samp"
   ]
  },
  {
   "cell_type": "code",
   "execution_count": 12,
   "id": "69087c1f",
   "metadata": {},
   "outputs": [],
   "source": [
    "def ks_stat(y, yhat):\n",
    "    return ks_2samp(yhat[y==1], yhat[y!=1]).statistic"
   ]
  },
  {
   "cell_type": "code",
   "execution_count": 13,
   "id": "b53ca0c1",
   "metadata": {},
   "outputs": [],
   "source": [
    "def type2_calcu(y,yhat):\n",
    "    confusion =confusion_matrix(y,yhat)\n",
    "    #[row, column]\n",
    "    TP = confusion[1, 1]\n",
    "    TN = confusion[0, 0]\n",
    "    FP = confusion[0, 1]\n",
    "    FN = confusion[1, 0]\n",
    "    return FP / float(FP + TN)\n",
    "def type1_calcu(y,yhat):\n",
    "    confusion =confusion_matrix(y,yhat)\n",
    "    #[row, column]\n",
    "    TP = confusion[1, 1]\n",
    "    TN = confusion[0, 0]\n",
    "    FP = confusion[0, 1]\n",
    "    FN = confusion[1, 0]\n",
    "    return FN / float(TP + FN)"
   ]
  },
  {
   "cell_type": "code",
   "execution_count": 14,
   "id": "5fcfc722",
   "metadata": {},
   "outputs": [],
   "source": [
    "def scores(model):\n",
    "    train=[]\n",
    "    test=[]\n",
    "    y_train_c=model.predict(x_train)\n",
    "    y_train_pre=model.predict_proba(x_train)\n",
    "    y_pred_c=model.predict(x_test)\n",
    "    y_pred = model.predict_proba(x_test)\n",
    "    #roc\n",
    "    train.append(roc_auc_score(y_train,y_train_pre))\n",
    "    test.append(roc_auc_score(y_test, y_pred))\n",
    "    #ks\n",
    "    train.append(ks_stat(y_train,np.round(y_train_c[:,0],0)))\n",
    "    test.append(ks_stat(y_test, np.round(y_pred_c[:,0],0)))\n",
    "    #brier\n",
    "    train.append(brier_score_loss(y_train,y_train_pre))\n",
    "    test.append(brier_score_loss(y_test, y_pred))\n",
    "    #acc\n",
    "    train.append(accuracy_score(y_train,np.round(y_train_c,0)))\n",
    "    test.append(accuracy_score(y_test, np.round(y_pred_c,0)))\n",
    "    #t1\n",
    "    train.append(type1_calcu(y_train,np.round(y_train_c,0)))\n",
    "    test.append(type1_calcu(y_test, np.round(y_pred_c,0)))\n",
    "    #t2\n",
    "    train.append(type2_calcu(y_train,np.round(y_train_c,0)))\n",
    "    test.append(type2_calcu(y_test, np.round(y_pred_c,0)))\n",
    "    return train,test"
   ]
  },
  {
   "cell_type": "code",
   "execution_count": 15,
   "id": "187c70fd",
   "metadata": {},
   "outputs": [
    {
     "name": "stdout",
     "output_type": "stream",
     "text": [
      "(120000, 10)\n"
     ]
    }
   ],
   "source": [
    "print(x_train.shape)"
   ]
  },
  {
   "cell_type": "code",
   "execution_count": 44,
   "id": "efd2c511",
   "metadata": {},
   "outputs": [],
   "source": [
    "x_train=StandardScaler().fit_transform(x_train)\n",
    "x_test=StandardScaler().fit_transform(x_test)\n",
    "\n",
    "x_train_b=StandardScaler().fit_transform(x_train_b)"
   ]
  },
  {
   "cell_type": "code",
   "execution_count": 45,
   "id": "5e7956b4",
   "metadata": {},
   "outputs": [],
   "source": [
    "x_train = x_train.reshape(x_train.shape[0], x_train.shape[1], 1)\n",
    "x_test = x_test.reshape(x_test.shape[0], x_test.shape[1], 1)\n",
    "\n",
    "x_train_b = x_train_b.reshape(x_train_b.shape[0], x_train_b.shape[1], 1)"
   ]
  },
  {
   "cell_type": "code",
   "execution_count": 18,
   "id": "f423d606",
   "metadata": {},
   "outputs": [
    {
     "name": "stdout",
     "output_type": "stream",
     "text": [
      "Metal device set to: Apple M1 Pro\n"
     ]
    },
    {
     "name": "stderr",
     "output_type": "stream",
     "text": [
      "2022-07-27 21:08:08.374793: I tensorflow/core/common_runtime/pluggable_device/pluggable_device_factory.cc:305] Could not identify NUMA node of platform GPU ID 0, defaulting to 0. Your kernel may not have been built with NUMA support.\n",
      "2022-07-27 21:08:08.375081: I tensorflow/core/common_runtime/pluggable_device/pluggable_device_factory.cc:271] Created TensorFlow device (/job:localhost/replica:0/task:0/device:GPU:0 with 0 MB memory) -> physical PluggableDevice (device: 0, name: METAL, pci bus id: <undefined>)\n"
     ]
    }
   ],
   "source": [
    "epochs = 20\n",
    "model = Sequential()\n",
    "model.add(Conv1D(32, 2, activation='relu',input_shape = x_train[0].shape))\n",
    "model.add(BatchNormalization())\n",
    "model.add(Dropout(0.2))\n",
    "\n",
    "model.add(Conv1D(64, 2, activation='relu'))\n",
    "model.add(BatchNormalization())\n",
    "model.add(Dropout(0.5))\n",
    "\n",
    "model.add(Flatten())\n",
    "model.add(Dense(64, activation='relu'))\n",
    "model.add(Dropout(0.5))\n",
    "\n",
    "model.add(Dense(1, activation='sigmoid'))"
   ]
  },
  {
   "cell_type": "code",
   "execution_count": 19,
   "id": "35814033",
   "metadata": {},
   "outputs": [
    {
     "name": "stdout",
     "output_type": "stream",
     "text": [
      "Model: \"sequential\"\n",
      "_________________________________________________________________\n",
      "Layer (type)                 Output Shape              Param #   \n",
      "=================================================================\n",
      "conv1d (Conv1D)              (None, 9, 32)             96        \n",
      "_________________________________________________________________\n",
      "batch_normalization (BatchNo (None, 9, 32)             128       \n",
      "_________________________________________________________________\n",
      "module_wrapper (ModuleWrappe (None, 9, 32)             0         \n",
      "_________________________________________________________________\n",
      "conv1d_1 (Conv1D)            (None, 8, 64)             4160      \n",
      "_________________________________________________________________\n",
      "batch_normalization_1 (Batch (None, 8, 64)             256       \n",
      "_________________________________________________________________\n",
      "module_wrapper_1 (ModuleWrap (None, 8, 64)             0         \n",
      "_________________________________________________________________\n",
      "module_wrapper_2 (ModuleWrap (None, 512)               0         \n",
      "_________________________________________________________________\n",
      "module_wrapper_3 (ModuleWrap (None, 64)                32832     \n",
      "_________________________________________________________________\n",
      "module_wrapper_4 (ModuleWrap (None, 64)                0         \n",
      "_________________________________________________________________\n",
      "module_wrapper_5 (ModuleWrap (None, 1)                 65        \n",
      "=================================================================\n",
      "Total params: 37,537\n",
      "Trainable params: 37,345\n",
      "Non-trainable params: 192\n",
      "_________________________________________________________________\n"
     ]
    }
   ],
   "source": [
    "model.summary()"
   ]
  },
  {
   "cell_type": "code",
   "execution_count": 20,
   "id": "d5fde345",
   "metadata": {},
   "outputs": [],
   "source": [
    "model.compile(optimizer=Adam(learning_rate=0.0001), loss = 'binary_crossentropy', metrics=['accuracy'])"
   ]
  },
  {
   "cell_type": "code",
   "execution_count": 22,
   "id": "a6a7ab4a",
   "metadata": {},
   "outputs": [
    {
     "name": "stdout",
     "output_type": "stream",
     "text": [
      "Epoch 1/5\n",
      "3750/3750 [==============================] - 33s 9ms/step - loss: 0.1975 - accuracy: 0.9345\n",
      "Epoch 2/5\n",
      "3750/3750 [==============================] - 33s 9ms/step - loss: 0.1952 - accuracy: 0.9351\n",
      "Epoch 3/5\n",
      "3750/3750 [==============================] - 32s 9ms/step - loss: 0.1946 - accuracy: 0.9354\n",
      "Epoch 4/5\n",
      "3750/3750 [==============================] - 32s 9ms/step - loss: 0.1931 - accuracy: 0.9355\n",
      "Epoch 5/5\n",
      "3750/3750 [==============================] - 32s 9ms/step - loss: 0.1924 - accuracy: 0.9353\n"
     ]
    }
   ],
   "source": [
    "history = model.fit(x_train, y_train, epochs=5, verbose=1)"
   ]
  },
  {
   "cell_type": "code",
   "execution_count": 23,
   "id": "74425707",
   "metadata": {},
   "outputs": [],
   "source": [
    "from sklearn.metrics import roc_auc_score, recall_score, precision_score,make_scorer,confusion_matrix,brier_score_loss,accuracy_score"
   ]
  },
  {
   "cell_type": "code",
   "execution_count": 24,
   "id": "d99bbfd5",
   "metadata": {},
   "outputs": [
    {
     "name": "stderr",
     "output_type": "stream",
     "text": [
      "2022-07-27 21:13:20.674814: I tensorflow/core/grappler/optimizers/custom_graph_optimizer_registry.cc:112] Plugin optimizer for device_type GPU is enabled.\n",
      "/Users/weixiao/miniforge3/envs/tensorflow/lib/python3.9/site-packages/tensorflow/python/keras/engine/sequential.py:430: UserWarning: `model.predict_proba()` is deprecated and will be removed after 2021-01-01. Please use `model.predict()` instead.\n",
      "  warnings.warn('`model.predict_proba()` is deprecated and '\n",
      "2022-07-27 21:13:31.314720: I tensorflow/core/grappler/optimizers/custom_graph_optimizer_registry.cc:112] Plugin optimizer for device_type GPU is enabled.\n"
     ]
    },
    {
     "name": "stdout",
     "output_type": "stream",
     "text": [
      "([0.8304612787952401, 0.16683116774797255, 0.056643497061568175, 0.9364416666666666, 0.0090820600291126, 0.8240867722229148], [0.8326065529157994, 0.1423733041035561, 0.056405843973303824, 0.9359666666666666, 0.007751384175745669, 0.8498753117206983])\n"
     ]
    }
   ],
   "source": [
    "print(scores(model))"
   ]
  },
  {
   "cell_type": "code",
   "execution_count": 25,
   "id": "e313f57d",
   "metadata": {},
   "outputs": [
    {
     "name": "stdout",
     "output_type": "stream",
     "text": [
      "WARNING:tensorflow:Layer lstm will not use cuDNN kernels since it doesn't meet the criteria. It will use a generic GPU kernel as fallback when running on GPU.\n",
      "WARNING:tensorflow:Layer lstm_1 will not use cuDNN kernels since it doesn't meet the criteria. It will use a generic GPU kernel as fallback when running on GPU.\n"
     ]
    }
   ],
   "source": [
    "model2 = Sequential()\n",
    "model2.add(LSTM(32, input_shape=(1,10), activation='relu', return_sequences=True))\n",
    "model2.add(Dropout(0.2))\n",
    "\n",
    "model2.add(LSTM(64, activation='relu'))\n",
    "model2.add(Dropout(0.5))\n",
    "\n",
    "model2.add(Dense(64, activation='relu'))\n",
    "model2.add(Dropout(0.5))\n",
    "\n",
    "model2.add(Flatten())\n",
    "model2.add(Dense(1, activation='sigmoid'))"
   ]
  },
  {
   "cell_type": "code",
   "execution_count": 26,
   "id": "e109290e",
   "metadata": {},
   "outputs": [],
   "source": [
    "x_train = x_train.reshape(x_train.shape[0], 1,x_train.shape[1])\n",
    "x_test = x_test.reshape(x_test.shape[0], 1,x_test.shape[1])"
   ]
  },
  {
   "cell_type": "code",
   "execution_count": 27,
   "id": "e58e0bb3",
   "metadata": {},
   "outputs": [
    {
     "data": {
      "text/plain": [
       "(120000, 1, 10)"
      ]
     },
     "execution_count": 27,
     "metadata": {},
     "output_type": "execute_result"
    }
   ],
   "source": [
    "x_train.shape"
   ]
  },
  {
   "cell_type": "code",
   "execution_count": 28,
   "id": "b3c59476",
   "metadata": {},
   "outputs": [],
   "source": [
    "model2.compile(optimizer=Adam(learning_rate=0.001), loss = 'binary_crossentropy', metrics=['accuracy'])"
   ]
  },
  {
   "cell_type": "code",
   "execution_count": 29,
   "id": "3829cdec",
   "metadata": {},
   "outputs": [
    {
     "name": "stdout",
     "output_type": "stream",
     "text": [
      "Epoch 1/5\n"
     ]
    },
    {
     "name": "stderr",
     "output_type": "stream",
     "text": [
      "2022-07-27 21:14:43.810946: I tensorflow/core/grappler/optimizers/custom_graph_optimizer_registry.cc:112] Plugin optimizer for device_type GPU is enabled.\n"
     ]
    },
    {
     "name": "stdout",
     "output_type": "stream",
     "text": [
      "3750/3750 [==============================] - 61s 16ms/step - loss: 0.2058 - accuracy: 0.9339\n",
      "Epoch 2/5\n",
      "3750/3750 [==============================] - 60s 16ms/step - loss: 0.1911 - accuracy: 0.9346\n",
      "Epoch 3/5\n",
      "3750/3750 [==============================] - 60s 16ms/step - loss: 0.1905 - accuracy: 0.9354\n",
      "Epoch 4/5\n",
      "3750/3750 [==============================] - 59s 16ms/step - loss: 0.1898 - accuracy: 0.9356\n",
      "Epoch 5/5\n",
      "3750/3750 [==============================] - 63s 17ms/step - loss: 0.1893 - accuracy: 0.9362\n"
     ]
    }
   ],
   "source": [
    "history=model2.fit(x_train, y_train, epochs=5)"
   ]
  },
  {
   "cell_type": "code",
   "execution_count": 30,
   "id": "dfe18ad2",
   "metadata": {},
   "outputs": [
    {
     "name": "stderr",
     "output_type": "stream",
     "text": [
      "2022-07-27 21:19:46.045022: I tensorflow/core/grappler/optimizers/custom_graph_optimizer_registry.cc:112] Plugin optimizer for device_type GPU is enabled.\n",
      "/Users/weixiao/miniforge3/envs/tensorflow/lib/python3.9/site-packages/tensorflow/python/keras/engine/sequential.py:430: UserWarning: `model.predict_proba()` is deprecated and will be removed after 2021-01-01. Please use `model.predict()` instead.\n",
      "  warnings.warn('`model.predict_proba()` is deprecated and '\n",
      "2022-07-27 21:20:22.414216: I tensorflow/core/grappler/optimizers/custom_graph_optimizer_registry.cc:112] Plugin optimizer for device_type GPU is enabled.\n"
     ]
    },
    {
     "name": "stdout",
     "output_type": "stream",
     "text": [
      "([0.8326426747697794, 0.2143209581951388, 0.05126713200652451, 0.9363666666666667, 0.012832763285973263, 0.7728462785188879], [0.8372003817924379, 0.19170612493591882, 0.05100260108651581, 0.9366333333333333, 0.010787640650116092, 0.7975062344139651])\n"
     ]
    }
   ],
   "source": [
    "print(scores(model2))"
   ]
  },
  {
   "cell_type": "code",
   "execution_count": 31,
   "id": "a55766e0",
   "metadata": {},
   "outputs": [],
   "source": [
    "epochs = 20\n",
    "model3 = Sequential()\n",
    "model3.add(Conv1D(32, 2, activation='relu',input_shape = x_train_b[0].shape))\n",
    "model3.add(BatchNormalization())\n",
    "model3.add(Dropout(0.2))\n",
    "\n",
    "model3.add(Conv1D(64, 2, activation='relu'))\n",
    "model3.add(BatchNormalization())\n",
    "model3.add(Dropout(0.5))\n",
    "\n",
    "model3.add(Flatten())\n",
    "model3.add(Dense(64, activation='relu'))\n",
    "model3.add(Dropout(0.5))\n",
    "\n",
    "model3.add(Dense(1, activation='sigmoid'))"
   ]
  },
  {
   "cell_type": "code",
   "execution_count": 46,
   "id": "93424f3d",
   "metadata": {},
   "outputs": [],
   "source": [
    "x_train=x_train_b\n",
    "y_train=y_train_b"
   ]
  },
  {
   "cell_type": "code",
   "execution_count": 47,
   "id": "dd1606c0",
   "metadata": {},
   "outputs": [],
   "source": [
    "model3.compile(optimizer=Adam(learning_rate=0.0001), loss = 'binary_crossentropy', metrics=['accuracy'])"
   ]
  },
  {
   "cell_type": "code",
   "execution_count": 48,
   "id": "7f9dedca",
   "metadata": {},
   "outputs": [
    {
     "name": "stdout",
     "output_type": "stream",
     "text": [
      "Epoch 1/5\n",
      "   1/6999 [..............................] - ETA: 1:20:44 - loss: 1.5463 - accuracy: 0.3438"
     ]
    },
    {
     "name": "stderr",
     "output_type": "stream",
     "text": [
      "2022-07-27 21:22:43.220142: I tensorflow/core/grappler/optimizers/custom_graph_optimizer_registry.cc:112] Plugin optimizer for device_type GPU is enabled.\n"
     ]
    },
    {
     "name": "stdout",
     "output_type": "stream",
     "text": [
      "6999/6999 [==============================] - 131s 19ms/step - loss: 0.5852 - accuracy: 0.7036\n",
      "Epoch 2/5\n",
      "6999/6999 [==============================] - 131s 19ms/step - loss: 0.5251 - accuracy: 0.7418\n",
      "Epoch 3/5\n",
      "6999/6999 [==============================] - 130s 19ms/step - loss: 0.5136 - accuracy: 0.7506\n",
      "Epoch 4/5\n",
      "6999/6999 [==============================] - 130s 19ms/step - loss: 0.5081 - accuracy: 0.7544\n",
      "Epoch 5/5\n",
      "6999/6999 [==============================] - 130s 19ms/step - loss: 0.5036 - accuracy: 0.7581\n"
     ]
    }
   ],
   "source": [
    "history = model3.fit(x_train, y_train, epochs=5, verbose=1)"
   ]
  },
  {
   "cell_type": "code",
   "execution_count": 49,
   "id": "fbf90d2e",
   "metadata": {},
   "outputs": [
    {
     "name": "stderr",
     "output_type": "stream",
     "text": [
      "2022-07-27 21:33:34.816248: I tensorflow/core/grappler/optimizers/custom_graph_optimizer_registry.cc:112] Plugin optimizer for device_type GPU is enabled.\n",
      "/Users/weixiao/miniforge3/envs/tensorflow/lib/python3.9/site-packages/tensorflow/python/keras/engine/sequential.py:430: UserWarning: `model.predict_proba()` is deprecated and will be removed after 2021-01-01. Please use `model.predict()` instead.\n",
      "  warnings.warn('`model.predict_proba()` is deprecated and '\n"
     ]
    },
    {
     "name": "stdout",
     "output_type": "stream",
     "text": [
      "([0.8431599485462711, 0.5202314719724234, 0.16392075293883182, 0.7601157359862117, 0.14684896275194456, 0.33291956527563205], [0.7643006878232175, 0.0014421884207145297, 0.5742499138278535, 0.0725, 0.9935702804072156, 0.004987531172069825])\n"
     ]
    }
   ],
   "source": [
    "print(scores(model3))"
   ]
  },
  {
   "cell_type": "code",
   "execution_count": 65,
   "id": "a3b995a1",
   "metadata": {},
   "outputs": [
    {
     "name": "stdout",
     "output_type": "stream",
     "text": [
      "WARNING:tensorflow:Layer lstm_10 will not use cuDNN kernels since it doesn't meet the criteria. It will use a generic GPU kernel as fallback when running on GPU.\n",
      "WARNING:tensorflow:Layer lstm_11 will not use cuDNN kernels since it doesn't meet the criteria. It will use a generic GPU kernel as fallback when running on GPU.\n"
     ]
    }
   ],
   "source": [
    "model4 = Sequential()\n",
    "model4.add(LSTM(32, input_shape=(1,10), activation='relu', return_sequences=True))\n",
    "model4.add(Dropout(0.2))\n",
    "\n",
    "model4.add(LSTM(64, activation='relu'))\n",
    "model4.add(Dropout(0.5))\n",
    "\n",
    "model4.add(Dense(64, activation='relu'))\n",
    "model4.add(Dropout(0.5))\n",
    "\n",
    "model4.add(Flatten())\n",
    "model4.add(Dense(1, activation='sigmoid'))"
   ]
  },
  {
   "cell_type": "code",
   "execution_count": 51,
   "id": "cc236b87",
   "metadata": {},
   "outputs": [],
   "source": [
    "#x_train = x_train.reshape(x_train.shape[0],1,x_train.shape[1])"
   ]
  },
  {
   "cell_type": "code",
   "execution_count": 69,
   "id": "37d98fe2",
   "metadata": {},
   "outputs": [
    {
     "data": {
      "text/plain": [
       "(30000, 10, 1)"
      ]
     },
     "execution_count": 69,
     "metadata": {},
     "output_type": "execute_result"
    }
   ],
   "source": [
    "x_test.shape"
   ]
  },
  {
   "cell_type": "code",
   "execution_count": 70,
   "id": "918ab948",
   "metadata": {},
   "outputs": [],
   "source": [
    "#x_train=x_train_b\n",
    "#y_train=y_train_b\n",
    "x_test = x_test.reshape(x_test.shape[0], 1,x_test.shape[1])"
   ]
  },
  {
   "cell_type": "code",
   "execution_count": 66,
   "id": "5138db0d",
   "metadata": {},
   "outputs": [],
   "source": [
    "model4.compile(optimizer=Adam(learning_rate=0.001), loss = 'binary_crossentropy', metrics=['accuracy'])"
   ]
  },
  {
   "cell_type": "code",
   "execution_count": 67,
   "id": "8f0deb36",
   "metadata": {},
   "outputs": [
    {
     "name": "stdout",
     "output_type": "stream",
     "text": [
      "Epoch 1/5\n"
     ]
    },
    {
     "name": "stderr",
     "output_type": "stream",
     "text": [
      "2022-07-28 07:31:30.753968: I tensorflow/core/grappler/optimizers/custom_graph_optimizer_registry.cc:112] Plugin optimizer for device_type GPU is enabled.\n"
     ]
    },
    {
     "name": "stdout",
     "output_type": "stream",
     "text": [
      "6999/6999 [==============================] - 142s 20ms/step - loss: 0.5246 - accuracy: 0.7422\n",
      "Epoch 2/5\n",
      "6999/6999 [==============================] - 140s 20ms/step - loss: 0.4985 - accuracy: 0.7633\n",
      "Epoch 3/5\n",
      "6999/6999 [==============================] - 140s 20ms/step - loss: 0.4918 - accuracy: 0.7677\n",
      "Epoch 4/5\n",
      "6999/6999 [==============================] - 141s 20ms/step - loss: 0.4846 - accuracy: 0.7746\n",
      "Epoch 5/5\n",
      "6999/6999 [==============================] - 140s 20ms/step - loss: 0.4765 - accuracy: 0.7792\n"
     ]
    }
   ],
   "source": [
    "history=model4.fit(x_train, y_train, epochs=5)"
   ]
  },
  {
   "cell_type": "code",
   "execution_count": 71,
   "id": "b32da105",
   "metadata": {},
   "outputs": [
    {
     "name": "stdout",
     "output_type": "stream",
     "text": [
      "([0.8661577839397377, 0.5778404879486332, 0.15289471359273393, 0.7889202439743166, 0.2472517168397646, 0.17490779521160219], [0.8160745038635774, 0.0013957782806780505, 0.5795949228154921, 0.069, 0.997606715484908, 0.000997506234413965])\n"
     ]
    }
   ],
   "source": [
    "print(scores(model4))"
   ]
  },
  {
   "cell_type": "code",
   "execution_count": null,
   "id": "d8da718c",
   "metadata": {},
   "outputs": [],
   "source": []
  }
 ],
 "metadata": {
  "kernelspec": {
   "display_name": "Python [conda env:tensorflow] *",
   "language": "python",
   "name": "conda-env-tensorflow-py"
  },
  "language_info": {
   "codemirror_mode": {
    "name": "ipython",
    "version": 3
   },
   "file_extension": ".py",
   "mimetype": "text/x-python",
   "name": "python",
   "nbconvert_exporter": "python",
   "pygments_lexer": "ipython3",
   "version": "3.9.13"
  }
 },
 "nbformat": 4,
 "nbformat_minor": 5
}
