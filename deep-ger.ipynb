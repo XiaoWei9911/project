{
 "cells": [
  {
   "cell_type": "code",
   "execution_count": 1,
   "id": "4df241a0",
   "metadata": {},
   "outputs": [
    {
     "name": "stdout",
     "output_type": "stream",
     "text": [
      "Init Plugin\n",
      "Init Graph Optimizer\n",
      "Init Kernel\n"
     ]
    }
   ],
   "source": [
    "import tensorflow as tf\n",
    "from tensorflow import keras\n",
    "from tensorflow.keras import Sequential\n",
    "from tensorflow.keras.layers import Flatten, Dense, Dropout, BatchNormalization\n",
    "from tensorflow.keras.layers import Conv1D, MaxPool1D\n",
    "from keras.layers import Embedding, Dense, LSTM, Activation, Dropout, Flatten\n",
    "from tensorflow.keras.optimizers import Adam"
   ]
  },
  {
   "cell_type": "code",
   "execution_count": 2,
   "id": "9607df99",
   "metadata": {},
   "outputs": [],
   "source": [
    "import pandas as pd\n",
    "import numpy as np\n",
    "import  seaborn as sns\n",
    "import matplotlib.pyplot as plt\n",
    "from sklearn.model_selection import train_test_split\n",
    "from sklearn.preprocessing import StandardScaler"
   ]
  },
  {
   "cell_type": "code",
   "execution_count": 3,
   "id": "c7488afd",
   "metadata": {},
   "outputs": [],
   "source": [
    "ger=pd.read_table('./German/german.data', header=None,sep=' ')\n",
    "colnames=['Status','Duration','History','Purpose','Amount','Savings','Employment','Installment%','Personal','Other','Residence','Property','Age','Plans','Housing','Existing','Job', 'People','Telephone','Foreign','Label']\n",
    "ger.columns=colnames"
   ]
  },
  {
   "cell_type": "code",
   "execution_count": 4,
   "id": "2753899a",
   "metadata": {},
   "outputs": [],
   "source": [
    "ger_pre=ger.copy(deep=True)\n",
    "ger_pre=ger_pre.drop(columns=['Label'])\n",
    "numer_ger=StandardScaler().fit_transform(ger_pre.select_dtypes(include='int64'))\n",
    "numer_ger=pd.DataFrame(numer_ger,columns = ger_pre.select_dtypes(include='number').columns)\n",
    "#print(numer_ger)\n",
    "\n",
    "cate_ger=pd.get_dummies(ger_pre.select_dtypes(exclude='int64'))\n",
    "\n",
    "\n",
    "scale_ger=pd.concat([numer_ger, cate_ger, ger[['Label']]], axis=1)"
   ]
  },
  {
   "cell_type": "code",
   "execution_count": 5,
   "id": "dcfe66de",
   "metadata": {},
   "outputs": [],
   "source": [
    "from sklearn.ensemble import RandomForestClassifier\n",
    "X, y = scale_ger.loc[:, np.delete(scale_ger.columns.values, \n",
    "                                        np.where(scale_ger.columns.values == ['Label']))], \\\n",
    "        scale_ger.loc[:, 'Label']\n",
    "\n",
    "# train on randomForest to get important features\n",
    "clf = RandomForestClassifier(n_estimators=100, max_depth=2,\n",
    "                             random_state=0)\n",
    "clf.fit(X, y) \n",
    "\n",
    "feature_importances = pd.DataFrame(sorted(zip(scale_ger.columns, clf.feature_importances_), key=lambda x: x[1] * -1),\n",
    "                                    columns = ['feature','importance'])"
   ]
  },
  {
   "cell_type": "code",
   "execution_count": 8,
   "id": "16e5dacc",
   "metadata": {},
   "outputs": [],
   "source": [
    "top_features = feature_importances[feature_importances.importance>0]['feature'].values\n",
    "\n",
    "X, y = scale_ger.loc[:,top_features], scale_ger.loc[:,'Label']"
   ]
  },
  {
   "cell_type": "code",
   "execution_count": 9,
   "id": "33235d52",
   "metadata": {},
   "outputs": [],
   "source": [
    "from imblearn.over_sampling import SMOTE"
   ]
  },
  {
   "cell_type": "code",
   "execution_count": 10,
   "id": "aa3c5a10",
   "metadata": {},
   "outputs": [],
   "source": [
    "x_train, x_test, y_train, y_test = train_test_split(X, y, test_size = 0.2, random_state = 0,stratify = y)\n",
    "sm = SMOTE(random_state=0,sampling_strategy=1)\n",
    "x_train_b, y_train_b = sm.fit_resample(x_train, y_train.ravel())"
   ]
  },
  {
   "cell_type": "code",
   "execution_count": 11,
   "id": "6a21c774",
   "metadata": {},
   "outputs": [],
   "source": [
    "from scipy.stats import ks_2samp"
   ]
  },
  {
   "cell_type": "code",
   "execution_count": 12,
   "id": "69087c1f",
   "metadata": {},
   "outputs": [],
   "source": [
    "def ks_stat(y, yhat):\n",
    "    return ks_2samp(yhat[y==1], yhat[y!=1]).statistic"
   ]
  },
  {
   "cell_type": "code",
   "execution_count": 13,
   "id": "b53ca0c1",
   "metadata": {},
   "outputs": [],
   "source": [
    "def type2_calcu(y,yhat):\n",
    "    confusion =confusion_matrix(y,yhat)\n",
    "    #[row, column]\n",
    "    TP = confusion[1, 1]\n",
    "    TN = confusion[0, 0]\n",
    "    FP = confusion[0, 1]\n",
    "    FN = confusion[1, 0]\n",
    "    return FP / float(FP + TN)\n",
    "def type1_calcu(y,yhat):\n",
    "    confusion =confusion_matrix(y,yhat)\n",
    "    #[row, column]\n",
    "    TP = confusion[1, 1]\n",
    "    TN = confusion[0, 0]\n",
    "    FP = confusion[0, 1]\n",
    "    FN = confusion[1, 0]\n",
    "    return FN / float(TP + FN)"
   ]
  },
  {
   "cell_type": "code",
   "execution_count": 14,
   "id": "5fcfc722",
   "metadata": {},
   "outputs": [],
   "source": [
    "def scores(model):\n",
    "    train=[]\n",
    "    test=[]\n",
    "    y_train_c=model.predict(x_train)\n",
    "    y_train_pre=model.predict_proba(x_train)\n",
    "    y_pred_c=model.predict(x_test)\n",
    "    y_pred = model.predict_proba(x_test)\n",
    "    #roc\n",
    "    train.append(roc_auc_score(y_train,y_train_pre))\n",
    "    test.append(roc_auc_score(y_test, y_pred))\n",
    "    #ks\n",
    "    train.append(ks_stat(y_train,np.round(y_train_c[:,0],0)))\n",
    "    test.append(ks_stat(y_test, np.round(y_pred_c[:,0],0)))\n",
    "    #brier\n",
    "    train.append(brier_score_loss(y_train,y_train_pre))\n",
    "    test.append(brier_score_loss(y_test, y_pred))\n",
    "    #acc\n",
    "    train.append(accuracy_score(y_train,np.round(y_train_c,0)))\n",
    "    test.append(accuracy_score(y_test, np.round(y_pred_c,0)))\n",
    "    #t1\n",
    "    train.append(type1_calcu(y_train,np.round(y_train_c,0)))\n",
    "    test.append(type1_calcu(y_test, np.round(y_pred_c,0)))\n",
    "    #t2\n",
    "    train.append(type2_calcu(y_train,np.round(y_train_c,0)))\n",
    "    test.append(type2_calcu(y_test, np.round(y_pred_c,0)))\n",
    "    return train,test"
   ]
  },
  {
   "cell_type": "code",
   "execution_count": 15,
   "id": "187c70fd",
   "metadata": {},
   "outputs": [
    {
     "name": "stdout",
     "output_type": "stream",
     "text": [
      "(800, 52)\n"
     ]
    }
   ],
   "source": [
    "print(x_train.shape)"
   ]
  },
  {
   "cell_type": "code",
   "execution_count": 16,
   "id": "efd2c511",
   "metadata": {},
   "outputs": [],
   "source": [
    "x_train=StandardScaler().fit_transform(x_train)\n",
    "x_test=StandardScaler().fit_transform(x_test)\n",
    "\n",
    "x_train_b=StandardScaler().fit_transform(x_train_b)"
   ]
  },
  {
   "cell_type": "code",
   "execution_count": 17,
   "id": "5e7956b4",
   "metadata": {},
   "outputs": [],
   "source": [
    "x_train = x_train.reshape(x_train.shape[0], x_train.shape[1], 1)\n",
    "x_test = x_test.reshape(x_test.shape[0], x_test.shape[1], 1)\n",
    "\n",
    "x_train_b = x_train_b.reshape(x_train_b.shape[0], x_train_b.shape[1], 1)"
   ]
  },
  {
   "cell_type": "code",
   "execution_count": 18,
   "id": "f423d606",
   "metadata": {},
   "outputs": [
    {
     "name": "stdout",
     "output_type": "stream",
     "text": [
      "Metal device set to: Apple M1 Pro\n"
     ]
    },
    {
     "name": "stderr",
     "output_type": "stream",
     "text": [
      "2022-07-29 00:45:25.308740: I tensorflow/core/common_runtime/pluggable_device/pluggable_device_factory.cc:305] Could not identify NUMA node of platform GPU ID 0, defaulting to 0. Your kernel may not have been built with NUMA support.\n",
      "2022-07-29 00:45:25.309108: I tensorflow/core/common_runtime/pluggable_device/pluggable_device_factory.cc:271] Created TensorFlow device (/job:localhost/replica:0/task:0/device:GPU:0 with 0 MB memory) -> physical PluggableDevice (device: 0, name: METAL, pci bus id: <undefined>)\n"
     ]
    }
   ],
   "source": [
    "epochs = 20\n",
    "model = Sequential()\n",
    "model.add(Conv1D(32, 2, activation='relu',input_shape = x_train[0].shape))\n",
    "model.add(BatchNormalization())\n",
    "model.add(Dropout(0.2))\n",
    "\n",
    "model.add(Conv1D(64, 2, activation='relu'))\n",
    "model.add(BatchNormalization())\n",
    "model.add(Dropout(0.5))\n",
    "\n",
    "model.add(Flatten())\n",
    "model.add(Dense(64, activation='relu'))\n",
    "model.add(Dropout(0.5))\n",
    "\n",
    "model.add(Dense(1, activation='sigmoid'))"
   ]
  },
  {
   "cell_type": "code",
   "execution_count": 19,
   "id": "35814033",
   "metadata": {},
   "outputs": [
    {
     "name": "stdout",
     "output_type": "stream",
     "text": [
      "Model: \"sequential\"\n",
      "_________________________________________________________________\n",
      "Layer (type)                 Output Shape              Param #   \n",
      "=================================================================\n",
      "conv1d (Conv1D)              (None, 51, 32)            96        \n",
      "_________________________________________________________________\n",
      "batch_normalization (BatchNo (None, 51, 32)            128       \n",
      "_________________________________________________________________\n",
      "module_wrapper (ModuleWrappe (None, 51, 32)            0         \n",
      "_________________________________________________________________\n",
      "conv1d_1 (Conv1D)            (None, 50, 64)            4160      \n",
      "_________________________________________________________________\n",
      "batch_normalization_1 (Batch (None, 50, 64)            256       \n",
      "_________________________________________________________________\n",
      "module_wrapper_1 (ModuleWrap (None, 50, 64)            0         \n",
      "_________________________________________________________________\n",
      "module_wrapper_2 (ModuleWrap (None, 3200)              0         \n",
      "_________________________________________________________________\n",
      "module_wrapper_3 (ModuleWrap (None, 64)                204864    \n",
      "_________________________________________________________________\n",
      "module_wrapper_4 (ModuleWrap (None, 64)                0         \n",
      "_________________________________________________________________\n",
      "module_wrapper_5 (ModuleWrap (None, 1)                 65        \n",
      "=================================================================\n",
      "Total params: 209,569\n",
      "Trainable params: 209,377\n",
      "Non-trainable params: 192\n",
      "_________________________________________________________________\n"
     ]
    }
   ],
   "source": [
    "model.summary()"
   ]
  },
  {
   "cell_type": "code",
   "execution_count": 20,
   "id": "d5fde345",
   "metadata": {},
   "outputs": [],
   "source": [
    "model.compile(optimizer=Adam(learning_rate=0.0001), loss = 'binary_crossentropy', metrics=['accuracy'])"
   ]
  },
  {
   "cell_type": "code",
   "execution_count": 21,
   "id": "a6a7ab4a",
   "metadata": {},
   "outputs": [
    {
     "name": "stderr",
     "output_type": "stream",
     "text": [
      "2022-07-29 00:45:27.581759: I tensorflow/compiler/mlir/mlir_graph_optimization_pass.cc:176] None of the MLIR Optimization Passes are enabled (registered 2)\n",
      "2022-07-29 00:45:27.584387: W tensorflow/core/platform/profile_utils/cpu_utils.cc:128] Failed to get CPU frequency: 0 Hz\n"
     ]
    },
    {
     "name": "stdout",
     "output_type": "stream",
     "text": [
      "Epoch 1/20\n"
     ]
    },
    {
     "name": "stderr",
     "output_type": "stream",
     "text": [
      "2022-07-29 00:45:27.954032: I tensorflow/core/grappler/optimizers/custom_graph_optimizer_registry.cc:112] Plugin optimizer for device_type GPU is enabled.\n"
     ]
    },
    {
     "name": "stdout",
     "output_type": "stream",
     "text": [
      "25/25 [==============================] - 1s 9ms/step - loss: -0.0103 - accuracy: 0.5612\n",
      "Epoch 2/20\n",
      "25/25 [==============================] - 0s 9ms/step - loss: -1.1977 - accuracy: 0.6725\n",
      "Epoch 3/20\n",
      "25/25 [==============================] - 0s 9ms/step - loss: -2.3537 - accuracy: 0.6887\n",
      "Epoch 4/20\n",
      "25/25 [==============================] - 0s 9ms/step - loss: -3.3763 - accuracy: 0.6962\n",
      "Epoch 5/20\n",
      "25/25 [==============================] - 0s 9ms/step - loss: -4.5201 - accuracy: 0.6950\n",
      "Epoch 6/20\n",
      "25/25 [==============================] - 0s 9ms/step - loss: -6.2088 - accuracy: 0.6987\n",
      "Epoch 7/20\n",
      "25/25 [==============================] - 0s 9ms/step - loss: -8.0788 - accuracy: 0.7000\n",
      "Epoch 8/20\n",
      "25/25 [==============================] - 0s 9ms/step - loss: -11.0162 - accuracy: 0.6987\n",
      "Epoch 9/20\n",
      "25/25 [==============================] - 0s 9ms/step - loss: -13.8208 - accuracy: 0.6987\n",
      "Epoch 10/20\n",
      "25/25 [==============================] - 0s 9ms/step - loss: -17.0174 - accuracy: 0.7000\n",
      "Epoch 11/20\n",
      "25/25 [==============================] - 0s 9ms/step - loss: -21.5342 - accuracy: 0.7000\n",
      "Epoch 12/20\n",
      "25/25 [==============================] - 0s 9ms/step - loss: -26.2246 - accuracy: 0.7000\n",
      "Epoch 13/20\n",
      "25/25 [==============================] - 0s 9ms/step - loss: -32.5761 - accuracy: 0.7000\n",
      "Epoch 14/20\n",
      "25/25 [==============================] - 0s 9ms/step - loss: -38.1143 - accuracy: 0.7000\n",
      "Epoch 15/20\n",
      "25/25 [==============================] - 0s 9ms/step - loss: -46.2182 - accuracy: 0.7000\n",
      "Epoch 16/20\n",
      "25/25 [==============================] - 0s 9ms/step - loss: -53.8059 - accuracy: 0.7000\n",
      "Epoch 17/20\n",
      "25/25 [==============================] - 0s 9ms/step - loss: -63.5658 - accuracy: 0.7000\n",
      "Epoch 18/20\n",
      "25/25 [==============================] - 0s 9ms/step - loss: -73.3236 - accuracy: 0.7000\n",
      "Epoch 19/20\n",
      "25/25 [==============================] - 0s 9ms/step - loss: -85.8822 - accuracy: 0.7000\n",
      "Epoch 20/20\n",
      "25/25 [==============================] - 0s 9ms/step - loss: -96.8940 - accuracy: 0.7000\n"
     ]
    }
   ],
   "source": [
    "history = model.fit(x_train, y_train, epochs=20, verbose=1)"
   ]
  },
  {
   "cell_type": "code",
   "execution_count": 22,
   "id": "74425707",
   "metadata": {},
   "outputs": [],
   "source": [
    "from sklearn.metrics import roc_auc_score, recall_score, precision_score,make_scorer,confusion_matrix,brier_score_loss,accuracy_score"
   ]
  },
  {
   "cell_type": "code",
   "execution_count": 23,
   "id": "d99bbfd5",
   "metadata": {},
   "outputs": [
    {
     "name": "stderr",
     "output_type": "stream",
     "text": [
      "2022-07-29 00:45:40.074096: I tensorflow/core/grappler/optimizers/custom_graph_optimizer_registry.cc:112] Plugin optimizer for device_type GPU is enabled.\n",
      "/Users/weixiao/miniforge3/envs/tensorflow/lib/python3.9/site-packages/tensorflow/python/keras/engine/sequential.py:430: UserWarning: `model.predict_proba()` is deprecated and will be removed after 2021-01-01. Please use `model.predict()` instead.\n",
      "  warnings.warn('`model.predict_proba()` is deprecated and '\n",
      "2022-07-29 00:45:40.219973: I tensorflow/core/grappler/optimizers/custom_graph_optimizer_registry.cc:112] Plugin optimizer for device_type GPU is enabled.\n"
     ]
    },
    {
     "name": "stdout",
     "output_type": "stream",
     "text": [
      "([0.5, 0.0, 0.7, 0.7, 1.0, 0.0], [0.5, 0.0, 0.7, 0.7, 1.0, 0.0])\n"
     ]
    }
   ],
   "source": [
    "print(scores(model))"
   ]
  },
  {
   "cell_type": "code",
   "execution_count": 27,
   "id": "e313f57d",
   "metadata": {},
   "outputs": [
    {
     "name": "stdout",
     "output_type": "stream",
     "text": [
      "WARNING:tensorflow:Layer lstm_2 will not use cuDNN kernels since it doesn't meet the criteria. It will use a generic GPU kernel as fallback when running on GPU.\n",
      "WARNING:tensorflow:Layer lstm_3 will not use cuDNN kernels since it doesn't meet the criteria. It will use a generic GPU kernel as fallback when running on GPU.\n"
     ]
    }
   ],
   "source": [
    "model2 = Sequential()\n",
    "model2.add(LSTM(32, input_shape=(1,52), activation='relu', return_sequences=True))\n",
    "model2.add(Dropout(0.2))\n",
    "\n",
    "model2.add(LSTM(64, activation='relu'))\n",
    "model2.add(Dropout(0.5))\n",
    "\n",
    "model2.add(Dense(64, activation='relu'))\n",
    "model2.add(Dropout(0.5))\n",
    "\n",
    "model2.add(Flatten())\n",
    "model2.add(Dense(1, activation='sigmoid'))"
   ]
  },
  {
   "cell_type": "code",
   "execution_count": 25,
   "id": "e109290e",
   "metadata": {},
   "outputs": [],
   "source": [
    "x_train = x_train.reshape(x_train.shape[0], 1,x_train.shape[1])\n",
    "x_test = x_test.reshape(x_test.shape[0], 1,x_test.shape[1])"
   ]
  },
  {
   "cell_type": "code",
   "execution_count": 28,
   "id": "e58e0bb3",
   "metadata": {},
   "outputs": [
    {
     "data": {
      "text/plain": [
       "(800, 1, 52)"
      ]
     },
     "execution_count": 28,
     "metadata": {},
     "output_type": "execute_result"
    }
   ],
   "source": [
    "x_train.shape"
   ]
  },
  {
   "cell_type": "code",
   "execution_count": 29,
   "id": "b3c59476",
   "metadata": {},
   "outputs": [],
   "source": [
    "model2.compile(optimizer=Adam(learning_rate=0.001), loss = 'binary_crossentropy', metrics=['accuracy'])"
   ]
  },
  {
   "cell_type": "code",
   "execution_count": 30,
   "id": "3829cdec",
   "metadata": {},
   "outputs": [
    {
     "name": "stdout",
     "output_type": "stream",
     "text": [
      "Epoch 1/20\n"
     ]
    },
    {
     "name": "stderr",
     "output_type": "stream",
     "text": [
      "2022-07-29 00:46:11.370983: I tensorflow/core/grappler/optimizers/custom_graph_optimizer_registry.cc:112] Plugin optimizer for device_type GPU is enabled.\n"
     ]
    },
    {
     "name": "stdout",
     "output_type": "stream",
     "text": [
      "25/25 [==============================] - 1s 17ms/step - loss: 0.5348 - accuracy: 0.6900\n",
      "Epoch 2/20\n",
      "25/25 [==============================] - 0s 16ms/step - loss: -0.0191 - accuracy: 0.7000\n",
      "Epoch 3/20\n",
      "25/25 [==============================] - 0s 16ms/step - loss: -1.5457 - accuracy: 0.7000\n",
      "Epoch 4/20\n",
      "25/25 [==============================] - 0s 16ms/step - loss: -8.6701 - accuracy: 0.7000\n",
      "Epoch 5/20\n",
      "25/25 [==============================] - 0s 16ms/step - loss: -45.4516 - accuracy: 0.7000\n",
      "Epoch 6/20\n",
      "25/25 [==============================] - 0s 16ms/step - loss: -159.0191 - accuracy: 0.7000\n",
      "Epoch 7/20\n",
      "25/25 [==============================] - 0s 16ms/step - loss: -396.8484 - accuracy: 0.7000\n",
      "Epoch 8/20\n",
      "25/25 [==============================] - 0s 17ms/step - loss: -864.8993 - accuracy: 0.7000\n",
      "Epoch 9/20\n",
      "25/25 [==============================] - 0s 16ms/step - loss: -1679.0922 - accuracy: 0.7000\n",
      "Epoch 10/20\n",
      "25/25 [==============================] - 0s 16ms/step - loss: -2991.4297 - accuracy: 0.7000\n",
      "Epoch 11/20\n",
      "25/25 [==============================] - 0s 16ms/step - loss: -4879.1543 - accuracy: 0.7000\n",
      "Epoch 12/20\n",
      "25/25 [==============================] - 0s 16ms/step - loss: -7592.4409 - accuracy: 0.7000\n",
      "Epoch 13/20\n",
      "25/25 [==============================] - 0s 16ms/step - loss: -11545.6230 - accuracy: 0.7000\n",
      "Epoch 14/20\n",
      "25/25 [==============================] - 0s 17ms/step - loss: -16486.2363 - accuracy: 0.7000\n",
      "Epoch 15/20\n",
      "25/25 [==============================] - 0s 18ms/step - loss: -22641.5664 - accuracy: 0.7000\n",
      "Epoch 16/20\n",
      "25/25 [==============================] - 0s 17ms/step - loss: -31592.6250 - accuracy: 0.7000\n",
      "Epoch 17/20\n",
      "25/25 [==============================] - 0s 16ms/step - loss: -40759.4805 - accuracy: 0.7000\n",
      "Epoch 18/20\n",
      "25/25 [==============================] - 0s 16ms/step - loss: -53419.6836 - accuracy: 0.7000\n",
      "Epoch 19/20\n",
      "25/25 [==============================] - 0s 16ms/step - loss: -70052.7031 - accuracy: 0.7000\n",
      "Epoch 20/20\n",
      "25/25 [==============================] - 0s 16ms/step - loss: -86192.6172 - accuracy: 0.7000\n"
     ]
    }
   ],
   "source": [
    "history=model2.fit(x_train, y_train, epochs=20)"
   ]
  },
  {
   "cell_type": "code",
   "execution_count": 31,
   "id": "dfe18ad2",
   "metadata": {},
   "outputs": [
    {
     "name": "stderr",
     "output_type": "stream",
     "text": [
      "2022-07-29 00:46:20.024195: I tensorflow/core/grappler/optimizers/custom_graph_optimizer_registry.cc:112] Plugin optimizer for device_type GPU is enabled.\n",
      "/Users/weixiao/miniforge3/envs/tensorflow/lib/python3.9/site-packages/tensorflow/python/keras/engine/sequential.py:430: UserWarning: `model.predict_proba()` is deprecated and will be removed after 2021-01-01. Please use `model.predict()` instead.\n",
      "  warnings.warn('`model.predict_proba()` is deprecated and '\n"
     ]
    },
    {
     "name": "stdout",
     "output_type": "stream",
     "text": [
      "([0.5, 0.0, 0.7, 0.7, 1.0, 0.0], [0.5, 0.0, 0.7, 0.7, 1.0, 0.0])\n"
     ]
    },
    {
     "name": "stderr",
     "output_type": "stream",
     "text": [
      "2022-07-29 00:46:20.490920: I tensorflow/core/grappler/optimizers/custom_graph_optimizer_registry.cc:112] Plugin optimizer for device_type GPU is enabled.\n"
     ]
    }
   ],
   "source": [
    "print(scores(model2))"
   ]
  },
  {
   "cell_type": "code",
   "execution_count": 32,
   "id": "a55766e0",
   "metadata": {},
   "outputs": [],
   "source": [
    "epochs = 20\n",
    "model3 = Sequential()\n",
    "model3.add(Conv1D(32, 2, activation='relu',input_shape = x_train_b[0].shape))\n",
    "model3.add(BatchNormalization())\n",
    "model3.add(Dropout(0.2))\n",
    "\n",
    "model3.add(Conv1D(64, 2, activation='relu'))\n",
    "model3.add(BatchNormalization())\n",
    "model3.add(Dropout(0.5))\n",
    "\n",
    "model3.add(Flatten())\n",
    "model3.add(Dense(64, activation='relu'))\n",
    "model3.add(Dropout(0.5))\n",
    "\n",
    "model3.add(Dense(1, activation='sigmoid'))"
   ]
  },
  {
   "cell_type": "code",
   "execution_count": 33,
   "id": "93424f3d",
   "metadata": {},
   "outputs": [],
   "source": [
    "x_train=x_train_b\n",
    "y_train=y_train_b"
   ]
  },
  {
   "cell_type": "code",
   "execution_count": 34,
   "id": "dd1606c0",
   "metadata": {},
   "outputs": [],
   "source": [
    "model3.compile(optimizer=Adam(learning_rate=0.0001), loss = 'binary_crossentropy', metrics=['accuracy'])"
   ]
  },
  {
   "cell_type": "code",
   "execution_count": 35,
   "id": "7f9dedca",
   "metadata": {},
   "outputs": [
    {
     "name": "stdout",
     "output_type": "stream",
     "text": [
      "Epoch 1/20\n",
      " 6/35 [====>.........................] - ETA: 0s - loss: 0.5735 - accuracy: 0.3490 "
     ]
    },
    {
     "name": "stderr",
     "output_type": "stream",
     "text": [
      "2022-07-29 00:46:36.435347: I tensorflow/core/grappler/optimizers/custom_graph_optimizer_registry.cc:112] Plugin optimizer for device_type GPU is enabled.\n"
     ]
    },
    {
     "name": "stdout",
     "output_type": "stream",
     "text": [
      "35/35 [==============================] - 1s 9ms/step - loss: -0.9135 - accuracy: 0.3938\n",
      "Epoch 2/20\n",
      "35/35 [==============================] - 0s 9ms/step - loss: -3.8696 - accuracy: 0.4804\n",
      "Epoch 3/20\n",
      "35/35 [==============================] - 0s 9ms/step - loss: -7.6687 - accuracy: 0.4911\n",
      "Epoch 4/20\n",
      "35/35 [==============================] - 0s 9ms/step - loss: -13.2896 - accuracy: 0.4973\n",
      "Epoch 5/20\n",
      "35/35 [==============================] - 0s 9ms/step - loss: -20.6508 - accuracy: 0.4991\n",
      "Epoch 6/20\n",
      "35/35 [==============================] - 0s 9ms/step - loss: -30.2518 - accuracy: 0.5000\n",
      "Epoch 7/20\n",
      "35/35 [==============================] - 0s 9ms/step - loss: -43.0795 - accuracy: 0.5000\n",
      "Epoch 8/20\n",
      "35/35 [==============================] - 0s 9ms/step - loss: -58.8629 - accuracy: 0.5000\n",
      "Epoch 9/20\n",
      "35/35 [==============================] - 0s 9ms/step - loss: -77.7987 - accuracy: 0.5000\n",
      "Epoch 10/20\n",
      "35/35 [==============================] - 0s 9ms/step - loss: -99.9963 - accuracy: 0.5000\n",
      "Epoch 11/20\n",
      "35/35 [==============================] - 0s 9ms/step - loss: -125.1555 - accuracy: 0.5000\n",
      "Epoch 12/20\n",
      "35/35 [==============================] - 0s 9ms/step - loss: -154.4740 - accuracy: 0.5000\n",
      "Epoch 13/20\n",
      "35/35 [==============================] - 0s 9ms/step - loss: -187.4757 - accuracy: 0.5000\n",
      "Epoch 14/20\n",
      "35/35 [==============================] - 0s 9ms/step - loss: -225.5131 - accuracy: 0.5000\n",
      "Epoch 15/20\n",
      "35/35 [==============================] - 0s 9ms/step - loss: -264.5125 - accuracy: 0.5000\n",
      "Epoch 16/20\n",
      "35/35 [==============================] - 0s 9ms/step - loss: -303.6921 - accuracy: 0.5000\n",
      "Epoch 17/20\n",
      "35/35 [==============================] - 0s 9ms/step - loss: -352.5936 - accuracy: 0.5000\n",
      "Epoch 18/20\n",
      "35/35 [==============================] - 0s 9ms/step - loss: -401.9919 - accuracy: 0.5000\n",
      "Epoch 19/20\n",
      "35/35 [==============================] - 0s 9ms/step - loss: -454.9006 - accuracy: 0.5000\n",
      "Epoch 20/20\n",
      "35/35 [==============================] - 0s 9ms/step - loss: -511.5744 - accuracy: 0.5000\n"
     ]
    }
   ],
   "source": [
    "history = model3.fit(x_train, y_train, epochs=20, verbose=1)"
   ]
  },
  {
   "cell_type": "code",
   "execution_count": 37,
   "id": "cfda5ce9",
   "metadata": {},
   "outputs": [],
   "source": [
    "x_test = x_test.reshape(x_test.shape[0],x_test.shape[2],1)"
   ]
  },
  {
   "cell_type": "code",
   "execution_count": 38,
   "id": "fbf90d2e",
   "metadata": {},
   "outputs": [
    {
     "name": "stdout",
     "output_type": "stream",
     "text": [
      "([0.5, 0.0, 0.5, 0.5, 1.0, 0.0], [0.5, 0.0, 0.7, 0.7, 1.0, 0.0])\n"
     ]
    },
    {
     "name": "stderr",
     "output_type": "stream",
     "text": [
      "2022-07-29 00:47:37.292553: I tensorflow/core/grappler/optimizers/custom_graph_optimizer_registry.cc:112] Plugin optimizer for device_type GPU is enabled.\n"
     ]
    }
   ],
   "source": [
    "print(scores(model3))"
   ]
  },
  {
   "cell_type": "code",
   "execution_count": 39,
   "id": "a3b995a1",
   "metadata": {},
   "outputs": [
    {
     "name": "stdout",
     "output_type": "stream",
     "text": [
      "WARNING:tensorflow:Layer lstm_4 will not use cuDNN kernels since it doesn't meet the criteria. It will use a generic GPU kernel as fallback when running on GPU.\n",
      "WARNING:tensorflow:Layer lstm_5 will not use cuDNN kernels since it doesn't meet the criteria. It will use a generic GPU kernel as fallback when running on GPU.\n"
     ]
    }
   ],
   "source": [
    "model4 = Sequential()\n",
    "model4.add(LSTM(32, input_shape=(1,52), activation='relu', return_sequences=True))\n",
    "model4.add(Dropout(0.2))\n",
    "\n",
    "model4.add(LSTM(64, activation='relu'))\n",
    "model4.add(Dropout(0.5))\n",
    "\n",
    "model4.add(Dense(64, activation='relu'))\n",
    "model4.add(Dropout(0.5))\n",
    "\n",
    "model4.add(Flatten())\n",
    "model4.add(Dense(1, activation='sigmoid'))"
   ]
  },
  {
   "cell_type": "code",
   "execution_count": 40,
   "id": "cc236b87",
   "metadata": {},
   "outputs": [],
   "source": [
    "x_train_b = x_train_b.reshape(x_train_b.shape[0],1,x_train_b.shape[1])"
   ]
  },
  {
   "cell_type": "code",
   "execution_count": 41,
   "id": "918ab948",
   "metadata": {},
   "outputs": [],
   "source": [
    "x_train=x_train_b\n",
    "y_train=y_train_b"
   ]
  },
  {
   "cell_type": "code",
   "execution_count": 42,
   "id": "5138db0d",
   "metadata": {},
   "outputs": [],
   "source": [
    "model4.compile(optimizer=Adam(learning_rate=0.001), loss = 'binary_crossentropy', metrics=['accuracy'])"
   ]
  },
  {
   "cell_type": "code",
   "execution_count": 43,
   "id": "8f0deb36",
   "metadata": {},
   "outputs": [
    {
     "name": "stdout",
     "output_type": "stream",
     "text": [
      "Epoch 1/20\n"
     ]
    },
    {
     "name": "stderr",
     "output_type": "stream",
     "text": [
      "2022-07-29 00:48:01.789157: I tensorflow/core/grappler/optimizers/custom_graph_optimizer_registry.cc:112] Plugin optimizer for device_type GPU is enabled.\n"
     ]
    },
    {
     "name": "stdout",
     "output_type": "stream",
     "text": [
      "35/35 [==============================] - 1s 17ms/step - loss: 0.4021 - accuracy: 0.4955\n",
      "Epoch 2/20\n",
      "35/35 [==============================] - 1s 16ms/step - loss: -1.5066 - accuracy: 0.5000\n",
      "Epoch 3/20\n",
      "35/35 [==============================] - 1s 17ms/step - loss: -22.2649 - accuracy: 0.5000\n",
      "Epoch 4/20\n",
      "35/35 [==============================] - 1s 16ms/step - loss: -185.2522 - accuracy: 0.5000\n",
      "Epoch 5/20\n",
      "35/35 [==============================] - 1s 16ms/step - loss: -790.8183 - accuracy: 0.5000\n",
      "Epoch 6/20\n",
      "35/35 [==============================] - 1s 16ms/step - loss: -2320.1633 - accuracy: 0.5000\n",
      "Epoch 7/20\n",
      "35/35 [==============================] - 1s 17ms/step - loss: -5411.0747 - accuracy: 0.5000\n",
      "Epoch 8/20\n",
      "35/35 [==============================] - 1s 17ms/step - loss: -10781.6914 - accuracy: 0.5000\n",
      "Epoch 9/20\n",
      "35/35 [==============================] - 1s 18ms/step - loss: -19615.0117 - accuracy: 0.5000\n",
      "Epoch 10/20\n",
      "35/35 [==============================] - 1s 17ms/step - loss: -33545.3750 - accuracy: 0.5000\n",
      "Epoch 11/20\n",
      "35/35 [==============================] - 1s 17ms/step - loss: -53109.7539 - accuracy: 0.5000\n",
      "Epoch 12/20\n",
      "35/35 [==============================] - 1s 19ms/step - loss: -79653.7500 - accuracy: 0.5000\n",
      "Epoch 13/20\n",
      "35/35 [==============================] - 1s 17ms/step - loss: -112031.8750 - accuracy: 0.5000\n",
      "Epoch 14/20\n",
      "35/35 [==============================] - 1s 16ms/step - loss: -158218.5312 - accuracy: 0.5000\n",
      "Epoch 15/20\n",
      "35/35 [==============================] - 1s 18ms/step - loss: -214708.1719 - accuracy: 0.5000\n",
      "Epoch 16/20\n",
      "35/35 [==============================] - 1s 16ms/step - loss: -285008.6562 - accuracy: 0.5000\n",
      "Epoch 17/20\n",
      "35/35 [==============================] - 1s 16ms/step - loss: -368032.0625 - accuracy: 0.5000\n",
      "Epoch 18/20\n",
      "35/35 [==============================] - 1s 16ms/step - loss: -468435.8438 - accuracy: 0.5000\n",
      "Epoch 19/20\n",
      "35/35 [==============================] - 1s 17ms/step - loss: -598104.8125 - accuracy: 0.5000\n",
      "Epoch 20/20\n",
      "35/35 [==============================] - 1s 17ms/step - loss: -730550.9375 - accuracy: 0.5000\n"
     ]
    }
   ],
   "source": [
    "history=model4.fit(x_train_b, y_train_b, epochs=20)"
   ]
  },
  {
   "cell_type": "code",
   "execution_count": 44,
   "id": "2b5384ea",
   "metadata": {},
   "outputs": [],
   "source": [
    "x_test = x_test.reshape(x_test.shape[0],1,x_test.shape[1])"
   ]
  },
  {
   "cell_type": "code",
   "execution_count": 45,
   "id": "b32da105",
   "metadata": {},
   "outputs": [
    {
     "name": "stderr",
     "output_type": "stream",
     "text": [
      "2022-07-29 00:48:43.864156: I tensorflow/core/grappler/optimizers/custom_graph_optimizer_registry.cc:112] Plugin optimizer for device_type GPU is enabled.\n",
      "/Users/weixiao/miniforge3/envs/tensorflow/lib/python3.9/site-packages/tensorflow/python/keras/engine/sequential.py:430: UserWarning: `model.predict_proba()` is deprecated and will be removed after 2021-01-01. Please use `model.predict()` instead.\n",
      "  warnings.warn('`model.predict_proba()` is deprecated and '\n"
     ]
    },
    {
     "name": "stdout",
     "output_type": "stream",
     "text": [
      "([0.5, 0.0, 0.5, 0.5, 1.0, 0.0], [0.5, 0.0, 0.7, 0.7, 1.0, 0.0])\n"
     ]
    },
    {
     "name": "stderr",
     "output_type": "stream",
     "text": [
      "2022-07-29 00:48:44.384313: I tensorflow/core/grappler/optimizers/custom_graph_optimizer_registry.cc:112] Plugin optimizer for device_type GPU is enabled.\n"
     ]
    }
   ],
   "source": [
    "print(scores(model4))"
   ]
  },
  {
   "cell_type": "code",
   "execution_count": null,
   "id": "3c584cb8",
   "metadata": {},
   "outputs": [],
   "source": []
  },
  {
   "cell_type": "code",
   "execution_count": null,
   "id": "d8da718c",
   "metadata": {},
   "outputs": [],
   "source": []
  }
 ],
 "metadata": {
  "kernelspec": {
   "display_name": "Python [conda env:tensorflow] *",
   "language": "python",
   "name": "conda-env-tensorflow-py"
  },
  "language_info": {
   "codemirror_mode": {
    "name": "ipython",
    "version": 3
   },
   "file_extension": ".py",
   "mimetype": "text/x-python",
   "name": "python",
   "nbconvert_exporter": "python",
   "pygments_lexer": "ipython3",
   "version": "3.9.13"
  }
 },
 "nbformat": 4,
 "nbformat_minor": 5
}
